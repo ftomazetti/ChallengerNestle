{
 "cells": [
  {
   "cell_type": "markdown",
   "id": "2c2d6eb5",
   "metadata": {},
   "source": [
    "# PA006 - Estratégia de Marketing para clientes de um Banco"
   ]
  },
  {
   "cell_type": "markdown",
   "id": "51a45ed4",
   "metadata": {},
   "source": [
    "# Planejamento da solução (IOT)"
   ]
  },
  {
   "cell_type": "markdown",
   "id": "83b41824",
   "metadata": {},
   "source": [
    "## Input"
   ]
  },
  {
   "cell_type": "markdown",
   "id": "66f10007",
   "metadata": {},
   "source": [
    "Você foi contratado como um cientista de dados consultor, para criar um produto de dados que cria uma segmentação de clientes que direcionará a estratégia de marketing e os resultados esperados do seu trabalho de consultoria, são os seguintes:\n",
    "\n",
    "1. Criar uma segmentação de clientes baseado em critérios claros de seleção.\n",
    "2. Tornar a segmentação de clientes acessível para o time de operações.\n",
    "3. Ensinar o time de operações sobre como usar a sua solução.\n",
    "4. Transferir o conhecimento para os Cientistas de Dados da International Bank.\n",
    "5. Recomendar 2-3 alavancas de negócio para cada segmento de clientes."
   ]
  },
  {
   "cell_type": "markdown",
   "id": "b34df079",
   "metadata": {},
   "source": [
    "## Output"
   ]
  },
  {
   "cell_type": "markdown",
   "id": "e06165d6",
   "metadata": {},
   "source": [
    "- Ferramentas\n",
    "    - Metabase\n",
    "    - Streamit\n",
    "- URL para o time de operação testar\n",
    "- Download dos dados selecionados"
   ]
  },
  {
   "cell_type": "markdown",
   "id": "98fe9d84",
   "metadata": {},
   "source": [
    "## Tasks"
   ]
  },
  {
   "cell_type": "markdown",
   "id": "801e753a",
   "metadata": {},
   "source": [
    "- Descrição dos dados\n",
    "    - Substituir nulos\n",
    "- EDA\n",
    "    - Análise Univariada\n",
    "    - Análise bivariada\n",
    "    - Detecção de outliers\n",
    "    - Seleção de features\n",
    "    - Estudo do Espaço\n",
    "    - Definição do Embedding\n",
    "- Treinamento de algorítimos de ML\n",
    "    - Análise de performace\n",
    "    - Análise de clustering\n",
    "    - Definição dos números de clusters\n",
    "- EDA Insights\n",
    "    - Explicação das características dos segmentos\n",
    "- Tabela para armazenar os clientes clusterizados\n",
    "- Criação do notebook de produção\n",
    "- Arquitetura AWS\n",
    "    - S3 para armazenar dados\n",
    "    - EC2 para armazenar o ETC e a ferramenta de visualização\n",
    "    - DB para armazenar a tabela\n",
    "    - Cronjob\n",
    "    - Papermil\n",
    "    "
   ]
  },
  {
   "cell_type": "markdown",
   "id": "ea67c47f",
   "metadata": {},
   "source": [
    "# 0 - Importações e funções"
   ]
  },
  {
   "cell_type": "markdown",
   "id": "917c588c",
   "metadata": {},
   "source": [
    "## Importações"
   ]
  },
  {
   "cell_type": "code",
   "execution_count": null,
   "id": "042850f8",
   "metadata": {},
   "outputs": [],
   "source": []
  },
  {
   "cell_type": "markdown",
   "id": "fe692785",
   "metadata": {},
   "source": [
    "## funções"
   ]
  },
  {
   "cell_type": "code",
   "execution_count": null,
   "id": "bd621caf",
   "metadata": {},
   "outputs": [],
   "source": []
  },
  {
   "cell_type": "markdown",
   "id": "335fd0d5",
   "metadata": {},
   "source": [
    "## Importar dados"
   ]
  },
  {
   "cell_type": "code",
   "execution_count": null,
   "id": "b626a07c",
   "metadata": {},
   "outputs": [],
   "source": []
  },
  {
   "cell_type": "code",
   "execution_count": null,
   "id": "c940ae5d",
   "metadata": {},
   "outputs": [],
   "source": []
  },
  {
   "cell_type": "markdown",
   "id": "f0dd8701",
   "metadata": {},
   "source": [
    "# 1 - Descrição dos dados"
   ]
  },
  {
   "cell_type": "code",
   "execution_count": null,
   "id": "3c10cf59",
   "metadata": {},
   "outputs": [],
   "source": []
  },
  {
   "cell_type": "markdown",
   "id": "b0caba11",
   "metadata": {},
   "source": [
    "# 2 - Filtragem de dados"
   ]
  },
  {
   "cell_type": "code",
   "execution_count": null,
   "id": "d4ce9d65",
   "metadata": {},
   "outputs": [],
   "source": []
  },
  {
   "cell_type": "markdown",
   "id": "373a35b9",
   "metadata": {},
   "source": [
    "# 3 - Feature Engineering (Atributos de engenharia)"
   ]
  },
  {
   "cell_type": "code",
   "execution_count": null,
   "id": "662c53c9",
   "metadata": {},
   "outputs": [],
   "source": []
  },
  {
   "cell_type": "markdown",
   "id": "b03b07cf",
   "metadata": {},
   "source": [
    "# 4 - EDA - Estudo do espaço"
   ]
  },
  {
   "cell_type": "code",
   "execution_count": null,
   "id": "eba890d2",
   "metadata": {},
   "outputs": [],
   "source": []
  },
  {
   "cell_type": "markdown",
   "id": "b6a60ffc",
   "metadata": {},
   "source": [
    "# 5 - Preparação dos dados"
   ]
  },
  {
   "cell_type": "code",
   "execution_count": null,
   "id": "6b0220b8",
   "metadata": {},
   "outputs": [],
   "source": []
  },
  {
   "cell_type": "markdown",
   "id": "f68903e5",
   "metadata": {},
   "source": [
    "# 6 -Seleção de atributos"
   ]
  },
  {
   "cell_type": "code",
   "execution_count": null,
   "id": "11eb651f",
   "metadata": {},
   "outputs": [],
   "source": []
  },
  {
   "cell_type": "markdown",
   "id": "b7037c55",
   "metadata": {},
   "source": [
    "# 7 - Hiperparametrização"
   ]
  },
  {
   "cell_type": "code",
   "execution_count": null,
   "id": "c064e394",
   "metadata": {},
   "outputs": [],
   "source": []
  },
  {
   "cell_type": "markdown",
   "id": "ba647c50",
   "metadata": {},
   "source": [
    "# 8 - Treinamento dos algorítimos"
   ]
  },
  {
   "cell_type": "code",
   "execution_count": null,
   "id": "ad7a1764",
   "metadata": {},
   "outputs": [],
   "source": []
  },
  {
   "cell_type": "markdown",
   "id": "363dec80",
   "metadata": {},
   "source": [
    "# 9 - Análise de clusters"
   ]
  },
  {
   "cell_type": "code",
   "execution_count": null,
   "id": "8a85ab40",
   "metadata": {},
   "outputs": [],
   "source": []
  },
  {
   "cell_type": "markdown",
   "id": "7cb8b274",
   "metadata": {},
   "source": [
    "# 10 - EDA - Descoberta de relatórios - Insights"
   ]
  },
  {
   "cell_type": "code",
   "execution_count": null,
   "id": "9ae7d2d7",
   "metadata": {},
   "outputs": [],
   "source": []
  },
  {
   "cell_type": "markdown",
   "id": "a937f1f6",
   "metadata": {},
   "source": [
    "# 11 - Deploy para produção"
   ]
  },
  {
   "cell_type": "code",
   "execution_count": null,
   "id": "0ed09d7b",
   "metadata": {},
   "outputs": [],
   "source": []
  },
  {
   "cell_type": "code",
   "execution_count": null,
   "id": "8bb67e5b",
   "metadata": {},
   "outputs": [],
   "source": []
  },
  {
   "cell_type": "code",
   "execution_count": null,
   "id": "19c1efa5",
   "metadata": {},
   "outputs": [],
   "source": []
  }
 ],
 "metadata": {
  "kernelspec": {
   "display_name": "Python 3 (ipykernel)",
   "language": "python",
   "name": "python3"
  },
  "language_info": {
   "codemirror_mode": {
    "name": "ipython",
    "version": 3
   },
   "file_extension": ".py",
   "mimetype": "text/x-python",
   "name": "python",
   "nbconvert_exporter": "python",
   "pygments_lexer": "ipython3",
   "version": "3.8.11"
  },
  "varInspector": {
   "cols": {
    "lenName": 16,
    "lenType": 16,
    "lenVar": 40
   },
   "kernels_config": {
    "python": {
     "delete_cmd_postfix": "",
     "delete_cmd_prefix": "del ",
     "library": "var_list.py",
     "varRefreshCmd": "print(var_dic_list())"
    },
    "r": {
     "delete_cmd_postfix": ") ",
     "delete_cmd_prefix": "rm(",
     "library": "var_list.r",
     "varRefreshCmd": "cat(var_dic_list()) "
    }
   },
   "types_to_exclude": [
    "module",
    "function",
    "builtin_function_or_method",
    "instance",
    "_Feature"
   ],
   "window_display": false
  }
 },
 "nbformat": 4,
 "nbformat_minor": 5
}
