{
 "cells": [
  {
   "cell_type": "markdown",
   "id": "2c2d6eb5",
   "metadata": {
    "heading_collapsed": true
   },
   "source": [
    "# Challenger Nestlé 2021"
   ]
  },
  {
   "cell_type": "markdown",
   "id": "51a45ed4",
   "metadata": {},
   "source": [
    "# Planejamento da solução (IOT)"
   ]
  },
  {
   "cell_type": "markdown",
   "id": "83b41824",
   "metadata": {},
   "source": [
    "## Input"
   ]
  },
  {
   "cell_type": "markdown",
   "id": "66f10007",
   "metadata": {},
   "source": [
    "- Os competidores da batalha de dados da Nestlé terão que apresentar soluções inovadoras, com foco em dados para ajudar a desenvolver o mercado artesanal e independente de produção de bolos e doces."
   ]
  },
  {
   "cell_type": "markdown",
   "id": "b34df079",
   "metadata": {},
   "source": [
    "## Output"
   ]
  },
  {
   "cell_type": "markdown",
   "id": "e06165d6",
   "metadata": {},
   "source": [
    "- Ferramentas\n",
    "    - Metabase\n",
    "    - Streamit\n",
    "- URL para o time de operação testar\n",
    "- Download dos dados selecionados"
   ]
  },
  {
   "cell_type": "markdown",
   "id": "98fe9d84",
   "metadata": {},
   "source": [
    "## Tasks"
   ]
  },
  {
   "cell_type": "markdown",
   "id": "801e753a",
   "metadata": {},
   "source": [
    "- Descrição dos dados\n",
    "    - Substituir nulos\n",
    "- EDA\n",
    "    - Análise Univariada\n",
    "    - Análise bivariada\n",
    "    - Detecção de outliers\n",
    "    - Seleção de features\n",
    "    - Estudo do Espaço\n",
    "    - Definição do Embedding\n",
    "- Treinamento de algorítimos de ML\n",
    "    - Análise de performace\n",
    "    - Análise de clustering\n",
    "    - Definição dos números de clusters\n",
    "- EDA Insights\n",
    "    - Explicação das características dos segmentos\n",
    "- Tabela para armazenar os clientes clusterizados\n",
    "- Criação do notebook de produção\n",
    "- Arquitetura AWS\n",
    "    - S3 para armazenar dados\n",
    "    - EC2 para armazenar o ETC e a ferramenta de visualização\n",
    "    - DB para armazenar a tabela\n",
    "    - Cronjob\n",
    "    - Papermil\n",
    "    "
   ]
  },
  {
   "cell_type": "markdown",
   "id": "ea67c47f",
   "metadata": {
    "heading_collapsed": true
   },
   "source": [
    "# 0 - Importações e funções"
   ]
  },
  {
   "cell_type": "markdown",
   "id": "917c588c",
   "metadata": {
    "hidden": true
   },
   "source": [
    "## Importações"
   ]
  },
  {
   "cell_type": "code",
   "execution_count": 1,
   "id": "042850f8",
   "metadata": {
    "hidden": true
   },
   "outputs": [],
   "source": [
    "import pandas as pd\n",
    "import numpy  as np\n",
    "from sklearn    import cluster as c\n",
    "from sklearn    import metrics as m\n",
    "from matplotlib import pyplot  as plt\n",
    "\n"
   ]
  },
  {
   "cell_type": "markdown",
   "id": "fe692785",
   "metadata": {
    "hidden": true
   },
   "source": [
    "## funções"
   ]
  },
  {
   "cell_type": "code",
   "execution_count": null,
   "id": "62fffc40",
   "metadata": {
    "hidden": true
   },
   "outputs": [],
   "source": []
  },
  {
   "cell_type": "markdown",
   "id": "335fd0d5",
   "metadata": {
    "hidden": true
   },
   "source": [
    "## Importar dados"
   ]
  },
  {
   "cell_type": "code",
   "execution_count": 2,
   "id": "b626a07c",
   "metadata": {
    "hidden": true
   },
   "outputs": [],
   "source": [
    "df0_raw = pd.read_csv(\"data/raw/CC_GENERAL.csv\", sep=\",\", low_memory=False)"
   ]
  },
  {
   "cell_type": "code",
   "execution_count": 3,
   "id": "c940ae5d",
   "metadata": {
    "hidden": true
   },
   "outputs": [
    {
     "data": {
      "text/html": [
       "<div>\n",
       "<style scoped>\n",
       "    .dataframe tbody tr th:only-of-type {\n",
       "        vertical-align: middle;\n",
       "    }\n",
       "\n",
       "    .dataframe tbody tr th {\n",
       "        vertical-align: top;\n",
       "    }\n",
       "\n",
       "    .dataframe thead th {\n",
       "        text-align: right;\n",
       "    }\n",
       "</style>\n",
       "<table border=\"1\" class=\"dataframe\">\n",
       "  <thead>\n",
       "    <tr style=\"text-align: right;\">\n",
       "      <th></th>\n",
       "      <th>CUST_ID</th>\n",
       "      <th>BALANCE</th>\n",
       "      <th>BALANCE_FREQUENCY</th>\n",
       "      <th>PURCHASES</th>\n",
       "      <th>ONEOFF_PURCHASES</th>\n",
       "      <th>INSTALLMENTS_PURCHASES</th>\n",
       "      <th>CASH_ADVANCE</th>\n",
       "      <th>PURCHASES_FREQUENCY</th>\n",
       "      <th>ONEOFF_PURCHASES_FREQUENCY</th>\n",
       "      <th>PURCHASES_INSTALLMENTS_FREQUENCY</th>\n",
       "      <th>CASH_ADVANCE_FREQUENCY</th>\n",
       "      <th>CASH_ADVANCE_TRX</th>\n",
       "      <th>PURCHASES_TRX</th>\n",
       "      <th>CREDIT_LIMIT</th>\n",
       "      <th>PAYMENTS</th>\n",
       "      <th>MINIMUM_PAYMENTS</th>\n",
       "      <th>PRC_FULL_PAYMENT</th>\n",
       "      <th>TENURE</th>\n",
       "    </tr>\n",
       "  </thead>\n",
       "  <tbody>\n",
       "    <tr>\n",
       "      <th>0</th>\n",
       "      <td>C10001</td>\n",
       "      <td>40.900749</td>\n",
       "      <td>0.818182</td>\n",
       "      <td>95.40</td>\n",
       "      <td>0.00</td>\n",
       "      <td>95.4</td>\n",
       "      <td>0.000000</td>\n",
       "      <td>0.166667</td>\n",
       "      <td>0.000000</td>\n",
       "      <td>0.083333</td>\n",
       "      <td>0.000000</td>\n",
       "      <td>0</td>\n",
       "      <td>2</td>\n",
       "      <td>1000.0</td>\n",
       "      <td>201.802084</td>\n",
       "      <td>139.509787</td>\n",
       "      <td>0.000000</td>\n",
       "      <td>12</td>\n",
       "    </tr>\n",
       "    <tr>\n",
       "      <th>1</th>\n",
       "      <td>C10002</td>\n",
       "      <td>3202.467416</td>\n",
       "      <td>0.909091</td>\n",
       "      <td>0.00</td>\n",
       "      <td>0.00</td>\n",
       "      <td>0.0</td>\n",
       "      <td>6442.945483</td>\n",
       "      <td>0.000000</td>\n",
       "      <td>0.000000</td>\n",
       "      <td>0.000000</td>\n",
       "      <td>0.250000</td>\n",
       "      <td>4</td>\n",
       "      <td>0</td>\n",
       "      <td>7000.0</td>\n",
       "      <td>4103.032597</td>\n",
       "      <td>1072.340217</td>\n",
       "      <td>0.222222</td>\n",
       "      <td>12</td>\n",
       "    </tr>\n",
       "    <tr>\n",
       "      <th>2</th>\n",
       "      <td>C10003</td>\n",
       "      <td>2495.148862</td>\n",
       "      <td>1.000000</td>\n",
       "      <td>773.17</td>\n",
       "      <td>773.17</td>\n",
       "      <td>0.0</td>\n",
       "      <td>0.000000</td>\n",
       "      <td>1.000000</td>\n",
       "      <td>1.000000</td>\n",
       "      <td>0.000000</td>\n",
       "      <td>0.000000</td>\n",
       "      <td>0</td>\n",
       "      <td>12</td>\n",
       "      <td>7500.0</td>\n",
       "      <td>622.066742</td>\n",
       "      <td>627.284787</td>\n",
       "      <td>0.000000</td>\n",
       "      <td>12</td>\n",
       "    </tr>\n",
       "    <tr>\n",
       "      <th>3</th>\n",
       "      <td>C10004</td>\n",
       "      <td>1666.670542</td>\n",
       "      <td>0.636364</td>\n",
       "      <td>1499.00</td>\n",
       "      <td>1499.00</td>\n",
       "      <td>0.0</td>\n",
       "      <td>205.788017</td>\n",
       "      <td>0.083333</td>\n",
       "      <td>0.083333</td>\n",
       "      <td>0.000000</td>\n",
       "      <td>0.083333</td>\n",
       "      <td>1</td>\n",
       "      <td>1</td>\n",
       "      <td>7500.0</td>\n",
       "      <td>0.000000</td>\n",
       "      <td>NaN</td>\n",
       "      <td>0.000000</td>\n",
       "      <td>12</td>\n",
       "    </tr>\n",
       "    <tr>\n",
       "      <th>4</th>\n",
       "      <td>C10005</td>\n",
       "      <td>817.714335</td>\n",
       "      <td>1.000000</td>\n",
       "      <td>16.00</td>\n",
       "      <td>16.00</td>\n",
       "      <td>0.0</td>\n",
       "      <td>0.000000</td>\n",
       "      <td>0.083333</td>\n",
       "      <td>0.083333</td>\n",
       "      <td>0.000000</td>\n",
       "      <td>0.000000</td>\n",
       "      <td>0</td>\n",
       "      <td>1</td>\n",
       "      <td>1200.0</td>\n",
       "      <td>678.334763</td>\n",
       "      <td>244.791237</td>\n",
       "      <td>0.000000</td>\n",
       "      <td>12</td>\n",
       "    </tr>\n",
       "  </tbody>\n",
       "</table>\n",
       "</div>"
      ],
      "text/plain": [
       "  CUST_ID      BALANCE  BALANCE_FREQUENCY  PURCHASES  ONEOFF_PURCHASES  \\\n",
       "0  C10001    40.900749           0.818182      95.40              0.00   \n",
       "1  C10002  3202.467416           0.909091       0.00              0.00   \n",
       "2  C10003  2495.148862           1.000000     773.17            773.17   \n",
       "3  C10004  1666.670542           0.636364    1499.00           1499.00   \n",
       "4  C10005   817.714335           1.000000      16.00             16.00   \n",
       "\n",
       "   INSTALLMENTS_PURCHASES  CASH_ADVANCE  PURCHASES_FREQUENCY  \\\n",
       "0                    95.4      0.000000             0.166667   \n",
       "1                     0.0   6442.945483             0.000000   \n",
       "2                     0.0      0.000000             1.000000   \n",
       "3                     0.0    205.788017             0.083333   \n",
       "4                     0.0      0.000000             0.083333   \n",
       "\n",
       "   ONEOFF_PURCHASES_FREQUENCY  PURCHASES_INSTALLMENTS_FREQUENCY  \\\n",
       "0                    0.000000                          0.083333   \n",
       "1                    0.000000                          0.000000   \n",
       "2                    1.000000                          0.000000   \n",
       "3                    0.083333                          0.000000   \n",
       "4                    0.083333                          0.000000   \n",
       "\n",
       "   CASH_ADVANCE_FREQUENCY  CASH_ADVANCE_TRX  PURCHASES_TRX  CREDIT_LIMIT  \\\n",
       "0                0.000000                 0              2        1000.0   \n",
       "1                0.250000                 4              0        7000.0   \n",
       "2                0.000000                 0             12        7500.0   \n",
       "3                0.083333                 1              1        7500.0   \n",
       "4                0.000000                 0              1        1200.0   \n",
       "\n",
       "      PAYMENTS  MINIMUM_PAYMENTS  PRC_FULL_PAYMENT  TENURE  \n",
       "0   201.802084        139.509787          0.000000      12  \n",
       "1  4103.032597       1072.340217          0.222222      12  \n",
       "2   622.066742        627.284787          0.000000      12  \n",
       "3     0.000000               NaN          0.000000      12  \n",
       "4   678.334763        244.791237          0.000000      12  "
      ]
     },
     "execution_count": 3,
     "metadata": {},
     "output_type": "execute_result"
    }
   ],
   "source": [
    "df0_raw.head()"
   ]
  },
  {
   "cell_type": "markdown",
   "id": "f0dd8701",
   "metadata": {
    "heading_collapsed": true
   },
   "source": [
    "# 1 - Descrição dos dados"
   ]
  },
  {
   "cell_type": "code",
   "execution_count": 4,
   "id": "3c10cf59",
   "metadata": {
    "hidden": true
   },
   "outputs": [],
   "source": [
    "df01 = df0_raw.copy()"
   ]
  },
  {
   "cell_type": "markdown",
   "id": "8947b4aa",
   "metadata": {
    "hidden": true
   },
   "source": [
    "## Renomear colunas"
   ]
  },
  {
   "cell_type": "code",
   "execution_count": 5,
   "id": "75308455",
   "metadata": {
    "hidden": true
   },
   "outputs": [],
   "source": [
    " # Deixa os nomes das colunas em minúsculo\n",
    "df01.columns = df01.columns.str.lower()"
   ]
  },
  {
   "cell_type": "markdown",
   "id": "99cf8ca7",
   "metadata": {
    "hidden": true
   },
   "source": [
    "## dimensão dos dados"
   ]
  },
  {
   "cell_type": "code",
   "execution_count": 6,
   "id": "fca0f568",
   "metadata": {
    "hidden": true
   },
   "outputs": [
    {
     "name": "stdout",
     "output_type": "stream",
     "text": [
      "nro Linhas 8950\n",
      "nro Colunas 18\n"
     ]
    }
   ],
   "source": [
    "print ( 'nro Linhas {}'.format( df01.shape[0]))\n",
    "print ( 'nro Colunas {}'.format( df01.shape[1]))"
   ]
  },
  {
   "cell_type": "markdown",
   "id": "be6aff07",
   "metadata": {
    "hidden": true
   },
   "source": [
    "## Tipagens"
   ]
  },
  {
   "cell_type": "code",
   "execution_count": 7,
   "id": "ba713727",
   "metadata": {
    "hidden": true
   },
   "outputs": [
    {
     "data": {
      "text/plain": [
       "cust_id                              object\n",
       "balance                             float64\n",
       "balance_frequency                   float64\n",
       "purchases                           float64\n",
       "oneoff_purchases                    float64\n",
       "installments_purchases              float64\n",
       "cash_advance                        float64\n",
       "purchases_frequency                 float64\n",
       "oneoff_purchases_frequency          float64\n",
       "purchases_installments_frequency    float64\n",
       "cash_advance_frequency              float64\n",
       "cash_advance_trx                      int64\n",
       "purchases_trx                         int64\n",
       "credit_limit                        float64\n",
       "payments                            float64\n",
       "minimum_payments                    float64\n",
       "prc_full_payment                    float64\n",
       "tenure                                int64\n",
       "dtype: object"
      ]
     },
     "execution_count": 7,
     "metadata": {},
     "output_type": "execute_result"
    }
   ],
   "source": [
    "df01.dtypes"
   ]
  },
  {
   "cell_type": "markdown",
   "id": "b47713ef",
   "metadata": {
    "hidden": true
   },
   "source": [
    "## Consultar / Tratar Nulos"
   ]
  },
  {
   "cell_type": "code",
   "execution_count": 8,
   "id": "8be07a61",
   "metadata": {
    "hidden": true
   },
   "outputs": [
    {
     "data": {
      "text/plain": [
       "cust_id                               0\n",
       "balance                               0\n",
       "balance_frequency                     0\n",
       "purchases                             0\n",
       "oneoff_purchases                      0\n",
       "installments_purchases                0\n",
       "cash_advance                          0\n",
       "purchases_frequency                   0\n",
       "oneoff_purchases_frequency            0\n",
       "purchases_installments_frequency      0\n",
       "cash_advance_frequency                0\n",
       "cash_advance_trx                      0\n",
       "purchases_trx                         0\n",
       "credit_limit                          1\n",
       "payments                              0\n",
       "minimum_payments                    313\n",
       "prc_full_payment                      0\n",
       "tenure                                0\n",
       "dtype: int64"
      ]
     },
     "execution_count": 8,
     "metadata": {},
     "output_type": "execute_result"
    }
   ],
   "source": [
    "df01.isna().sum()"
   ]
  },
  {
   "cell_type": "code",
   "execution_count": 9,
   "id": "f8c46c6c",
   "metadata": {
    "hidden": true
   },
   "outputs": [
    {
     "data": {
      "text/plain": [
       "cust_id                             0.000000\n",
       "balance                             0.000000\n",
       "balance_frequency                   0.000000\n",
       "purchases                           0.000000\n",
       "oneoff_purchases                    0.000000\n",
       "installments_purchases              0.000000\n",
       "cash_advance                        0.000000\n",
       "purchases_frequency                 0.000000\n",
       "oneoff_purchases_frequency          0.000000\n",
       "purchases_installments_frequency    0.000000\n",
       "cash_advance_frequency              0.000000\n",
       "cash_advance_trx                    0.000000\n",
       "purchases_trx                       0.000000\n",
       "credit_limit                        0.000112\n",
       "payments                            0.000000\n",
       "minimum_payments                    0.034972\n",
       "prc_full_payment                    0.000000\n",
       "tenure                              0.000000\n",
       "dtype: float64"
      ]
     },
     "execution_count": 9,
     "metadata": {},
     "output_type": "execute_result"
    }
   ],
   "source": [
    "# percentual de nulos\n",
    "df01.isna().sum() / df01.shape[0]"
   ]
  },
  {
   "cell_type": "code",
   "execution_count": 10,
   "id": "32057d99",
   "metadata": {
    "hidden": true
   },
   "outputs": [],
   "source": [
    "# ver dados nulos\n",
    "nullMP = df01[df01['minimum_payments'].isnull()]\n"
   ]
  },
  {
   "cell_type": "code",
   "execution_count": 11,
   "id": "b6b8c9ec",
   "metadata": {
    "hidden": true
   },
   "outputs": [
    {
     "data": {
      "text/html": [
       "<div>\n",
       "<style scoped>\n",
       "    .dataframe tbody tr th:only-of-type {\n",
       "        vertical-align: middle;\n",
       "    }\n",
       "\n",
       "    .dataframe tbody tr th {\n",
       "        vertical-align: top;\n",
       "    }\n",
       "\n",
       "    .dataframe thead th {\n",
       "        text-align: right;\n",
       "    }\n",
       "</style>\n",
       "<table border=\"1\" class=\"dataframe\">\n",
       "  <thead>\n",
       "    <tr style=\"text-align: right;\">\n",
       "      <th></th>\n",
       "      <th>cust_id</th>\n",
       "      <th>balance</th>\n",
       "      <th>balance_frequency</th>\n",
       "      <th>purchases</th>\n",
       "      <th>oneoff_purchases</th>\n",
       "      <th>installments_purchases</th>\n",
       "      <th>cash_advance</th>\n",
       "      <th>purchases_frequency</th>\n",
       "      <th>oneoff_purchases_frequency</th>\n",
       "      <th>purchases_installments_frequency</th>\n",
       "      <th>cash_advance_frequency</th>\n",
       "      <th>cash_advance_trx</th>\n",
       "      <th>purchases_trx</th>\n",
       "      <th>credit_limit</th>\n",
       "      <th>payments</th>\n",
       "      <th>minimum_payments</th>\n",
       "      <th>prc_full_payment</th>\n",
       "      <th>tenure</th>\n",
       "    </tr>\n",
       "  </thead>\n",
       "  <tbody>\n",
       "    <tr>\n",
       "      <th>3</th>\n",
       "      <td>C10004</td>\n",
       "      <td>1666.670542</td>\n",
       "      <td>0.636364</td>\n",
       "      <td>1499.0</td>\n",
       "      <td>1499.0</td>\n",
       "      <td>0.0</td>\n",
       "      <td>205.788017</td>\n",
       "      <td>0.083333</td>\n",
       "      <td>0.083333</td>\n",
       "      <td>0.000000</td>\n",
       "      <td>0.083333</td>\n",
       "      <td>1</td>\n",
       "      <td>1</td>\n",
       "      <td>7500.0</td>\n",
       "      <td>0.000000</td>\n",
       "      <td>NaN</td>\n",
       "      <td>0.0</td>\n",
       "      <td>12</td>\n",
       "    </tr>\n",
       "    <tr>\n",
       "      <th>45</th>\n",
       "      <td>C10047</td>\n",
       "      <td>2242.311686</td>\n",
       "      <td>1.000000</td>\n",
       "      <td>437.0</td>\n",
       "      <td>97.0</td>\n",
       "      <td>340.0</td>\n",
       "      <td>184.648692</td>\n",
       "      <td>0.333333</td>\n",
       "      <td>0.083333</td>\n",
       "      <td>0.333333</td>\n",
       "      <td>0.166667</td>\n",
       "      <td>2</td>\n",
       "      <td>5</td>\n",
       "      <td>2400.0</td>\n",
       "      <td>0.000000</td>\n",
       "      <td>NaN</td>\n",
       "      <td>0.0</td>\n",
       "      <td>12</td>\n",
       "    </tr>\n",
       "    <tr>\n",
       "      <th>47</th>\n",
       "      <td>C10049</td>\n",
       "      <td>3910.111237</td>\n",
       "      <td>1.000000</td>\n",
       "      <td>0.0</td>\n",
       "      <td>0.0</td>\n",
       "      <td>0.0</td>\n",
       "      <td>1980.873201</td>\n",
       "      <td>0.000000</td>\n",
       "      <td>0.000000</td>\n",
       "      <td>0.000000</td>\n",
       "      <td>0.500000</td>\n",
       "      <td>7</td>\n",
       "      <td>0</td>\n",
       "      <td>4200.0</td>\n",
       "      <td>0.000000</td>\n",
       "      <td>NaN</td>\n",
       "      <td>0.0</td>\n",
       "      <td>12</td>\n",
       "    </tr>\n",
       "    <tr>\n",
       "      <th>54</th>\n",
       "      <td>C10056</td>\n",
       "      <td>6.660517</td>\n",
       "      <td>0.636364</td>\n",
       "      <td>310.0</td>\n",
       "      <td>0.0</td>\n",
       "      <td>310.0</td>\n",
       "      <td>0.000000</td>\n",
       "      <td>0.666667</td>\n",
       "      <td>0.000000</td>\n",
       "      <td>0.666667</td>\n",
       "      <td>0.000000</td>\n",
       "      <td>0</td>\n",
       "      <td>8</td>\n",
       "      <td>1000.0</td>\n",
       "      <td>417.016763</td>\n",
       "      <td>NaN</td>\n",
       "      <td>0.0</td>\n",
       "      <td>12</td>\n",
       "    </tr>\n",
       "    <tr>\n",
       "      <th>55</th>\n",
       "      <td>C10057</td>\n",
       "      <td>1311.995984</td>\n",
       "      <td>1.000000</td>\n",
       "      <td>1283.9</td>\n",
       "      <td>1283.9</td>\n",
       "      <td>0.0</td>\n",
       "      <td>0.000000</td>\n",
       "      <td>0.250000</td>\n",
       "      <td>0.250000</td>\n",
       "      <td>0.000000</td>\n",
       "      <td>0.000000</td>\n",
       "      <td>0</td>\n",
       "      <td>6</td>\n",
       "      <td>6000.0</td>\n",
       "      <td>0.000000</td>\n",
       "      <td>NaN</td>\n",
       "      <td>0.0</td>\n",
       "      <td>12</td>\n",
       "    </tr>\n",
       "  </tbody>\n",
       "</table>\n",
       "</div>"
      ],
      "text/plain": [
       "   cust_id      balance  balance_frequency  purchases  oneoff_purchases  \\\n",
       "3   C10004  1666.670542           0.636364     1499.0            1499.0   \n",
       "45  C10047  2242.311686           1.000000      437.0              97.0   \n",
       "47  C10049  3910.111237           1.000000        0.0               0.0   \n",
       "54  C10056     6.660517           0.636364      310.0               0.0   \n",
       "55  C10057  1311.995984           1.000000     1283.9            1283.9   \n",
       "\n",
       "    installments_purchases  cash_advance  purchases_frequency  \\\n",
       "3                      0.0    205.788017             0.083333   \n",
       "45                   340.0    184.648692             0.333333   \n",
       "47                     0.0   1980.873201             0.000000   \n",
       "54                   310.0      0.000000             0.666667   \n",
       "55                     0.0      0.000000             0.250000   \n",
       "\n",
       "    oneoff_purchases_frequency  purchases_installments_frequency  \\\n",
       "3                     0.083333                          0.000000   \n",
       "45                    0.083333                          0.333333   \n",
       "47                    0.000000                          0.000000   \n",
       "54                    0.000000                          0.666667   \n",
       "55                    0.250000                          0.000000   \n",
       "\n",
       "    cash_advance_frequency  cash_advance_trx  purchases_trx  credit_limit  \\\n",
       "3                 0.083333                 1              1        7500.0   \n",
       "45                0.166667                 2              5        2400.0   \n",
       "47                0.500000                 7              0        4200.0   \n",
       "54                0.000000                 0              8        1000.0   \n",
       "55                0.000000                 0              6        6000.0   \n",
       "\n",
       "      payments  minimum_payments  prc_full_payment  tenure  \n",
       "3     0.000000               NaN               0.0      12  \n",
       "45    0.000000               NaN               0.0      12  \n",
       "47    0.000000               NaN               0.0      12  \n",
       "54  417.016763               NaN               0.0      12  \n",
       "55    0.000000               NaN               0.0      12  "
      ]
     },
     "execution_count": 11,
     "metadata": {},
     "output_type": "execute_result"
    }
   ],
   "source": [
    "nullMP.head()"
   ]
  },
  {
   "cell_type": "code",
   "execution_count": 12,
   "id": "310d8dc5",
   "metadata": {
    "hidden": true
   },
   "outputs": [],
   "source": [
    "prcfull = df01[df01['prc_full_payment'] > 0]"
   ]
  },
  {
   "cell_type": "code",
   "execution_count": 13,
   "id": "2e51beb6",
   "metadata": {
    "hidden": true
   },
   "outputs": [
    {
     "data": {
      "text/html": [
       "<div>\n",
       "<style scoped>\n",
       "    .dataframe tbody tr th:only-of-type {\n",
       "        vertical-align: middle;\n",
       "    }\n",
       "\n",
       "    .dataframe tbody tr th {\n",
       "        vertical-align: top;\n",
       "    }\n",
       "\n",
       "    .dataframe thead th {\n",
       "        text-align: right;\n",
       "    }\n",
       "</style>\n",
       "<table border=\"1\" class=\"dataframe\">\n",
       "  <thead>\n",
       "    <tr style=\"text-align: right;\">\n",
       "      <th></th>\n",
       "      <th>cust_id</th>\n",
       "      <th>balance</th>\n",
       "      <th>balance_frequency</th>\n",
       "      <th>purchases</th>\n",
       "      <th>oneoff_purchases</th>\n",
       "      <th>installments_purchases</th>\n",
       "      <th>cash_advance</th>\n",
       "      <th>purchases_frequency</th>\n",
       "      <th>oneoff_purchases_frequency</th>\n",
       "      <th>purchases_installments_frequency</th>\n",
       "      <th>cash_advance_frequency</th>\n",
       "      <th>cash_advance_trx</th>\n",
       "      <th>purchases_trx</th>\n",
       "      <th>credit_limit</th>\n",
       "      <th>payments</th>\n",
       "      <th>minimum_payments</th>\n",
       "      <th>prc_full_payment</th>\n",
       "      <th>tenure</th>\n",
       "    </tr>\n",
       "  </thead>\n",
       "  <tbody>\n",
       "    <tr>\n",
       "      <th>1</th>\n",
       "      <td>C10002</td>\n",
       "      <td>3202.467416</td>\n",
       "      <td>0.909091</td>\n",
       "      <td>0.00</td>\n",
       "      <td>0.00</td>\n",
       "      <td>0.00</td>\n",
       "      <td>6442.945483</td>\n",
       "      <td>0.000000</td>\n",
       "      <td>0.000000</td>\n",
       "      <td>0.000000</td>\n",
       "      <td>0.25</td>\n",
       "      <td>4</td>\n",
       "      <td>0</td>\n",
       "      <td>7000.0</td>\n",
       "      <td>4103.032597</td>\n",
       "      <td>1072.340217</td>\n",
       "      <td>0.222222</td>\n",
       "      <td>12</td>\n",
       "    </tr>\n",
       "    <tr>\n",
       "      <th>6</th>\n",
       "      <td>C10007</td>\n",
       "      <td>627.260806</td>\n",
       "      <td>1.000000</td>\n",
       "      <td>7091.01</td>\n",
       "      <td>6402.63</td>\n",
       "      <td>688.38</td>\n",
       "      <td>0.000000</td>\n",
       "      <td>1.000000</td>\n",
       "      <td>1.000000</td>\n",
       "      <td>1.000000</td>\n",
       "      <td>0.00</td>\n",
       "      <td>0</td>\n",
       "      <td>64</td>\n",
       "      <td>13500.0</td>\n",
       "      <td>6354.314328</td>\n",
       "      <td>198.065894</td>\n",
       "      <td>1.000000</td>\n",
       "      <td>12</td>\n",
       "    </tr>\n",
       "    <tr>\n",
       "      <th>12</th>\n",
       "      <td>C10013</td>\n",
       "      <td>1516.928620</td>\n",
       "      <td>1.000000</td>\n",
       "      <td>3217.99</td>\n",
       "      <td>2500.23</td>\n",
       "      <td>717.76</td>\n",
       "      <td>0.000000</td>\n",
       "      <td>1.000000</td>\n",
       "      <td>0.250000</td>\n",
       "      <td>0.916667</td>\n",
       "      <td>0.00</td>\n",
       "      <td>0</td>\n",
       "      <td>26</td>\n",
       "      <td>3000.0</td>\n",
       "      <td>608.263689</td>\n",
       "      <td>490.207013</td>\n",
       "      <td>0.250000</td>\n",
       "      <td>12</td>\n",
       "    </tr>\n",
       "    <tr>\n",
       "      <th>13</th>\n",
       "      <td>C10014</td>\n",
       "      <td>921.693369</td>\n",
       "      <td>1.000000</td>\n",
       "      <td>2137.93</td>\n",
       "      <td>419.96</td>\n",
       "      <td>1717.97</td>\n",
       "      <td>0.000000</td>\n",
       "      <td>0.750000</td>\n",
       "      <td>0.166667</td>\n",
       "      <td>0.750000</td>\n",
       "      <td>0.00</td>\n",
       "      <td>0</td>\n",
       "      <td>26</td>\n",
       "      <td>7500.0</td>\n",
       "      <td>1655.891435</td>\n",
       "      <td>251.137986</td>\n",
       "      <td>0.083333</td>\n",
       "      <td>12</td>\n",
       "    </tr>\n",
       "    <tr>\n",
       "      <th>17</th>\n",
       "      <td>C10018</td>\n",
       "      <td>41.089489</td>\n",
       "      <td>0.454545</td>\n",
       "      <td>519.00</td>\n",
       "      <td>0.00</td>\n",
       "      <td>519.00</td>\n",
       "      <td>0.000000</td>\n",
       "      <td>0.416667</td>\n",
       "      <td>0.000000</td>\n",
       "      <td>0.333333</td>\n",
       "      <td>0.00</td>\n",
       "      <td>0</td>\n",
       "      <td>8</td>\n",
       "      <td>2500.0</td>\n",
       "      <td>254.590662</td>\n",
       "      <td>73.203221</td>\n",
       "      <td>0.250000</td>\n",
       "      <td>12</td>\n",
       "    </tr>\n",
       "  </tbody>\n",
       "</table>\n",
       "</div>"
      ],
      "text/plain": [
       "   cust_id      balance  balance_frequency  purchases  oneoff_purchases  \\\n",
       "1   C10002  3202.467416           0.909091       0.00              0.00   \n",
       "6   C10007   627.260806           1.000000    7091.01           6402.63   \n",
       "12  C10013  1516.928620           1.000000    3217.99           2500.23   \n",
       "13  C10014   921.693369           1.000000    2137.93            419.96   \n",
       "17  C10018    41.089489           0.454545     519.00              0.00   \n",
       "\n",
       "    installments_purchases  cash_advance  purchases_frequency  \\\n",
       "1                     0.00   6442.945483             0.000000   \n",
       "6                   688.38      0.000000             1.000000   \n",
       "12                  717.76      0.000000             1.000000   \n",
       "13                 1717.97      0.000000             0.750000   \n",
       "17                  519.00      0.000000             0.416667   \n",
       "\n",
       "    oneoff_purchases_frequency  purchases_installments_frequency  \\\n",
       "1                     0.000000                          0.000000   \n",
       "6                     1.000000                          1.000000   \n",
       "12                    0.250000                          0.916667   \n",
       "13                    0.166667                          0.750000   \n",
       "17                    0.000000                          0.333333   \n",
       "\n",
       "    cash_advance_frequency  cash_advance_trx  purchases_trx  credit_limit  \\\n",
       "1                     0.25                 4              0        7000.0   \n",
       "6                     0.00                 0             64       13500.0   \n",
       "12                    0.00                 0             26        3000.0   \n",
       "13                    0.00                 0             26        7500.0   \n",
       "17                    0.00                 0              8        2500.0   \n",
       "\n",
       "       payments  minimum_payments  prc_full_payment  tenure  \n",
       "1   4103.032597       1072.340217          0.222222      12  \n",
       "6   6354.314328        198.065894          1.000000      12  \n",
       "12   608.263689        490.207013          0.250000      12  \n",
       "13  1655.891435        251.137986          0.083333      12  \n",
       "17   254.590662         73.203221          0.250000      12  "
      ]
     },
     "execution_count": 13,
     "metadata": {},
     "output_type": "execute_result"
    }
   ],
   "source": [
    "prcfull.head()"
   ]
  },
  {
   "cell_type": "code",
   "execution_count": 14,
   "id": "099a5156",
   "metadata": {
    "hidden": true
   },
   "outputs": [],
   "source": [
    "nullCL = df01[df01['credit_limit'].isnull()]"
   ]
  },
  {
   "cell_type": "code",
   "execution_count": 15,
   "id": "e280b2e0",
   "metadata": {
    "hidden": true
   },
   "outputs": [
    {
     "data": {
      "text/html": [
       "<div>\n",
       "<style scoped>\n",
       "    .dataframe tbody tr th:only-of-type {\n",
       "        vertical-align: middle;\n",
       "    }\n",
       "\n",
       "    .dataframe tbody tr th {\n",
       "        vertical-align: top;\n",
       "    }\n",
       "\n",
       "    .dataframe thead th {\n",
       "        text-align: right;\n",
       "    }\n",
       "</style>\n",
       "<table border=\"1\" class=\"dataframe\">\n",
       "  <thead>\n",
       "    <tr style=\"text-align: right;\">\n",
       "      <th></th>\n",
       "      <th>cust_id</th>\n",
       "      <th>balance</th>\n",
       "      <th>balance_frequency</th>\n",
       "      <th>purchases</th>\n",
       "      <th>oneoff_purchases</th>\n",
       "      <th>installments_purchases</th>\n",
       "      <th>cash_advance</th>\n",
       "      <th>purchases_frequency</th>\n",
       "      <th>oneoff_purchases_frequency</th>\n",
       "      <th>purchases_installments_frequency</th>\n",
       "      <th>cash_advance_frequency</th>\n",
       "      <th>cash_advance_trx</th>\n",
       "      <th>purchases_trx</th>\n",
       "      <th>credit_limit</th>\n",
       "      <th>payments</th>\n",
       "      <th>minimum_payments</th>\n",
       "      <th>prc_full_payment</th>\n",
       "      <th>tenure</th>\n",
       "    </tr>\n",
       "  </thead>\n",
       "  <tbody>\n",
       "    <tr>\n",
       "      <th>5203</th>\n",
       "      <td>C15349</td>\n",
       "      <td>18.400472</td>\n",
       "      <td>0.166667</td>\n",
       "      <td>0.0</td>\n",
       "      <td>0.0</td>\n",
       "      <td>0.0</td>\n",
       "      <td>186.853063</td>\n",
       "      <td>0.0</td>\n",
       "      <td>0.0</td>\n",
       "      <td>0.0</td>\n",
       "      <td>0.166667</td>\n",
       "      <td>1</td>\n",
       "      <td>0</td>\n",
       "      <td>NaN</td>\n",
       "      <td>9.040017</td>\n",
       "      <td>14.418723</td>\n",
       "      <td>0.0</td>\n",
       "      <td>6</td>\n",
       "    </tr>\n",
       "  </tbody>\n",
       "</table>\n",
       "</div>"
      ],
      "text/plain": [
       "     cust_id    balance  balance_frequency  purchases  oneoff_purchases  \\\n",
       "5203  C15349  18.400472           0.166667        0.0               0.0   \n",
       "\n",
       "      installments_purchases  cash_advance  purchases_frequency  \\\n",
       "5203                     0.0    186.853063                  0.0   \n",
       "\n",
       "      oneoff_purchases_frequency  purchases_installments_frequency  \\\n",
       "5203                         0.0                               0.0   \n",
       "\n",
       "      cash_advance_frequency  cash_advance_trx  purchases_trx  credit_limit  \\\n",
       "5203                0.166667                 1              0           NaN   \n",
       "\n",
       "      payments  minimum_payments  prc_full_payment  tenure  \n",
       "5203  9.040017         14.418723               0.0       6  "
      ]
     },
     "execution_count": 15,
     "metadata": {},
     "output_type": "execute_result"
    }
   ],
   "source": [
    "nullCL.head()"
   ]
  },
  {
   "cell_type": "code",
   "execution_count": 16,
   "id": "34c60377",
   "metadata": {
    "hidden": true
   },
   "outputs": [
    {
     "data": {
      "text/plain": [
       "30000.0"
      ]
     },
     "execution_count": 16,
     "metadata": {},
     "output_type": "execute_result"
    }
   ],
   "source": [
    "df01['credit_limit'].max()"
   ]
  },
  {
   "cell_type": "code",
   "execution_count": null,
   "id": "d4c752af",
   "metadata": {
    "hidden": true
   },
   "outputs": [],
   "source": []
  },
  {
   "cell_type": "code",
   "execution_count": 17,
   "id": "c0282fd7",
   "metadata": {
    "hidden": true
   },
   "outputs": [
    {
     "data": {
      "text/plain": [
       "cust_id                               0\n",
       "balance                               0\n",
       "balance_frequency                     0\n",
       "purchases                             0\n",
       "oneoff_purchases                      0\n",
       "installments_purchases                0\n",
       "cash_advance                          0\n",
       "purchases_frequency                   0\n",
       "oneoff_purchases_frequency            0\n",
       "purchases_installments_frequency      0\n",
       "cash_advance_frequency                0\n",
       "cash_advance_trx                      0\n",
       "purchases_trx                         0\n",
       "credit_limit                          1\n",
       "payments                              0\n",
       "minimum_payments                    313\n",
       "prc_full_payment                      0\n",
       "tenure                                0\n",
       "dtype: int64"
      ]
     },
     "execution_count": 17,
     "metadata": {},
     "output_type": "execute_result"
    }
   ],
   "source": [
    "df01.isna().sum()"
   ]
  },
  {
   "cell_type": "markdown",
   "id": "ce51c471",
   "metadata": {
    "hidden": true
   },
   "source": []
  },
  {
   "cell_type": "code",
   "execution_count": null,
   "id": "26a764df",
   "metadata": {
    "hidden": true
   },
   "outputs": [],
   "source": []
  },
  {
   "cell_type": "code",
   "execution_count": null,
   "id": "ce33c125",
   "metadata": {
    "hidden": true
   },
   "outputs": [],
   "source": []
  },
  {
   "cell_type": "code",
   "execution_count": null,
   "id": "50cf6d55",
   "metadata": {
    "hidden": true
   },
   "outputs": [],
   "source": []
  },
  {
   "cell_type": "markdown",
   "id": "b0caba11",
   "metadata": {
    "heading_collapsed": true
   },
   "source": [
    "# 2 - Filtragem de dados"
   ]
  },
  {
   "cell_type": "code",
   "execution_count": 18,
   "id": "d4ce9d65",
   "metadata": {
    "hidden": true
   },
   "outputs": [],
   "source": [
    "df02 = df01.copy()"
   ]
  },
  {
   "cell_type": "markdown",
   "id": "513145df",
   "metadata": {
    "hidden": true
   },
   "source": [
    "## Separar dados numéricos e categóricos"
   ]
  },
  {
   "cell_type": "code",
   "execution_count": 19,
   "id": "56d10f64",
   "metadata": {
    "hidden": true
   },
   "outputs": [],
   "source": [
    "# Só tem um categórico o ID do usuário que não interessa agora para o dataframe - vou remover aqui\n",
    "cols_drop = ['cust_id']\n",
    "df2 = df02.drop(cols_drop, axis=1)\n"
   ]
  },
  {
   "cell_type": "code",
   "execution_count": 20,
   "id": "dedb01a0",
   "metadata": {
    "hidden": true
   },
   "outputs": [
    {
     "data": {
      "text/html": [
       "<div>\n",
       "<style scoped>\n",
       "    .dataframe tbody tr th:only-of-type {\n",
       "        vertical-align: middle;\n",
       "    }\n",
       "\n",
       "    .dataframe tbody tr th {\n",
       "        vertical-align: top;\n",
       "    }\n",
       "\n",
       "    .dataframe thead th {\n",
       "        text-align: right;\n",
       "    }\n",
       "</style>\n",
       "<table border=\"1\" class=\"dataframe\">\n",
       "  <thead>\n",
       "    <tr style=\"text-align: right;\">\n",
       "      <th></th>\n",
       "      <th>balance</th>\n",
       "      <th>balance_frequency</th>\n",
       "      <th>purchases</th>\n",
       "      <th>oneoff_purchases</th>\n",
       "      <th>installments_purchases</th>\n",
       "      <th>cash_advance</th>\n",
       "      <th>purchases_frequency</th>\n",
       "      <th>oneoff_purchases_frequency</th>\n",
       "      <th>purchases_installments_frequency</th>\n",
       "      <th>cash_advance_frequency</th>\n",
       "      <th>cash_advance_trx</th>\n",
       "      <th>purchases_trx</th>\n",
       "      <th>credit_limit</th>\n",
       "      <th>payments</th>\n",
       "      <th>minimum_payments</th>\n",
       "      <th>prc_full_payment</th>\n",
       "      <th>tenure</th>\n",
       "    </tr>\n",
       "  </thead>\n",
       "  <tbody>\n",
       "    <tr>\n",
       "      <th>0</th>\n",
       "      <td>40.900749</td>\n",
       "      <td>0.818182</td>\n",
       "      <td>95.40</td>\n",
       "      <td>0.00</td>\n",
       "      <td>95.4</td>\n",
       "      <td>0.000000</td>\n",
       "      <td>0.166667</td>\n",
       "      <td>0.000000</td>\n",
       "      <td>0.083333</td>\n",
       "      <td>0.000000</td>\n",
       "      <td>0</td>\n",
       "      <td>2</td>\n",
       "      <td>1000.0</td>\n",
       "      <td>201.802084</td>\n",
       "      <td>139.509787</td>\n",
       "      <td>0.000000</td>\n",
       "      <td>12</td>\n",
       "    </tr>\n",
       "    <tr>\n",
       "      <th>1</th>\n",
       "      <td>3202.467416</td>\n",
       "      <td>0.909091</td>\n",
       "      <td>0.00</td>\n",
       "      <td>0.00</td>\n",
       "      <td>0.0</td>\n",
       "      <td>6442.945483</td>\n",
       "      <td>0.000000</td>\n",
       "      <td>0.000000</td>\n",
       "      <td>0.000000</td>\n",
       "      <td>0.250000</td>\n",
       "      <td>4</td>\n",
       "      <td>0</td>\n",
       "      <td>7000.0</td>\n",
       "      <td>4103.032597</td>\n",
       "      <td>1072.340217</td>\n",
       "      <td>0.222222</td>\n",
       "      <td>12</td>\n",
       "    </tr>\n",
       "    <tr>\n",
       "      <th>2</th>\n",
       "      <td>2495.148862</td>\n",
       "      <td>1.000000</td>\n",
       "      <td>773.17</td>\n",
       "      <td>773.17</td>\n",
       "      <td>0.0</td>\n",
       "      <td>0.000000</td>\n",
       "      <td>1.000000</td>\n",
       "      <td>1.000000</td>\n",
       "      <td>0.000000</td>\n",
       "      <td>0.000000</td>\n",
       "      <td>0</td>\n",
       "      <td>12</td>\n",
       "      <td>7500.0</td>\n",
       "      <td>622.066742</td>\n",
       "      <td>627.284787</td>\n",
       "      <td>0.000000</td>\n",
       "      <td>12</td>\n",
       "    </tr>\n",
       "    <tr>\n",
       "      <th>3</th>\n",
       "      <td>1666.670542</td>\n",
       "      <td>0.636364</td>\n",
       "      <td>1499.00</td>\n",
       "      <td>1499.00</td>\n",
       "      <td>0.0</td>\n",
       "      <td>205.788017</td>\n",
       "      <td>0.083333</td>\n",
       "      <td>0.083333</td>\n",
       "      <td>0.000000</td>\n",
       "      <td>0.083333</td>\n",
       "      <td>1</td>\n",
       "      <td>1</td>\n",
       "      <td>7500.0</td>\n",
       "      <td>0.000000</td>\n",
       "      <td>NaN</td>\n",
       "      <td>0.000000</td>\n",
       "      <td>12</td>\n",
       "    </tr>\n",
       "    <tr>\n",
       "      <th>4</th>\n",
       "      <td>817.714335</td>\n",
       "      <td>1.000000</td>\n",
       "      <td>16.00</td>\n",
       "      <td>16.00</td>\n",
       "      <td>0.0</td>\n",
       "      <td>0.000000</td>\n",
       "      <td>0.083333</td>\n",
       "      <td>0.083333</td>\n",
       "      <td>0.000000</td>\n",
       "      <td>0.000000</td>\n",
       "      <td>0</td>\n",
       "      <td>1</td>\n",
       "      <td>1200.0</td>\n",
       "      <td>678.334763</td>\n",
       "      <td>244.791237</td>\n",
       "      <td>0.000000</td>\n",
       "      <td>12</td>\n",
       "    </tr>\n",
       "  </tbody>\n",
       "</table>\n",
       "</div>"
      ],
      "text/plain": [
       "       balance  balance_frequency  purchases  oneoff_purchases  \\\n",
       "0    40.900749           0.818182      95.40              0.00   \n",
       "1  3202.467416           0.909091       0.00              0.00   \n",
       "2  2495.148862           1.000000     773.17            773.17   \n",
       "3  1666.670542           0.636364    1499.00           1499.00   \n",
       "4   817.714335           1.000000      16.00             16.00   \n",
       "\n",
       "   installments_purchases  cash_advance  purchases_frequency  \\\n",
       "0                    95.4      0.000000             0.166667   \n",
       "1                     0.0   6442.945483             0.000000   \n",
       "2                     0.0      0.000000             1.000000   \n",
       "3                     0.0    205.788017             0.083333   \n",
       "4                     0.0      0.000000             0.083333   \n",
       "\n",
       "   oneoff_purchases_frequency  purchases_installments_frequency  \\\n",
       "0                    0.000000                          0.083333   \n",
       "1                    0.000000                          0.000000   \n",
       "2                    1.000000                          0.000000   \n",
       "3                    0.083333                          0.000000   \n",
       "4                    0.083333                          0.000000   \n",
       "\n",
       "   cash_advance_frequency  cash_advance_trx  purchases_trx  credit_limit  \\\n",
       "0                0.000000                 0              2        1000.0   \n",
       "1                0.250000                 4              0        7000.0   \n",
       "2                0.000000                 0             12        7500.0   \n",
       "3                0.083333                 1              1        7500.0   \n",
       "4                0.000000                 0              1        1200.0   \n",
       "\n",
       "      payments  minimum_payments  prc_full_payment  tenure  \n",
       "0   201.802084        139.509787          0.000000      12  \n",
       "1  4103.032597       1072.340217          0.222222      12  \n",
       "2   622.066742        627.284787          0.000000      12  \n",
       "3     0.000000               NaN          0.000000      12  \n",
       "4   678.334763        244.791237          0.000000      12  "
      ]
     },
     "execution_count": 20,
     "metadata": {},
     "output_type": "execute_result"
    }
   ],
   "source": [
    "df2.head()"
   ]
  },
  {
   "cell_type": "markdown",
   "id": "41600ce5",
   "metadata": {
    "hidden": true
   },
   "source": [
    "## Tratar dados Nulos"
   ]
  },
  {
   "cell_type": "code",
   "execution_count": 21,
   "id": "e31901ea",
   "metadata": {
    "hidden": true
   },
   "outputs": [],
   "source": [
    "# Segundo ciclo do CRISP eliminar nulos\n",
    "# avaliar = minimum_payments colocar zero e credit_limit colocar o valor máximo do dataset\n",
    "df02['minimum_payments'].fillna((0), inplace=True)\n",
    "df02['credit_limit'].fillna((df02['credit_limit'].max()), inplace=True)"
   ]
  },
  {
   "cell_type": "code",
   "execution_count": null,
   "id": "f3a3446d",
   "metadata": {
    "hidden": true
   },
   "outputs": [],
   "source": []
  },
  {
   "cell_type": "markdown",
   "id": "373a35b9",
   "metadata": {
    "heading_collapsed": true
   },
   "source": [
    "# 3 - Feature Engineering (Atributos de engenharia)"
   ]
  },
  {
   "cell_type": "code",
   "execution_count": 22,
   "id": "662c53c9",
   "metadata": {
    "hidden": true
   },
   "outputs": [],
   "source": [
    "df03 = df02.copy()"
   ]
  },
  {
   "cell_type": "markdown",
   "id": "d59726fe",
   "metadata": {
    "hidden": true
   },
   "source": [
    "## Avaliar métricas"
   ]
  },
  {
   "cell_type": "code",
   "execution_count": 23,
   "id": "b66c9102",
   "metadata": {
    "hidden": true
   },
   "outputs": [],
   "source": [
    "# separa atributos numéricos\n",
    "num_att = df03.select_dtypes( include = ['int64','int32', 'float64'] )"
   ]
  },
  {
   "cell_type": "code",
   "execution_count": 24,
   "id": "858e680c",
   "metadata": {
    "hidden": true
   },
   "outputs": [],
   "source": [
    "# tendencia central - média e mediana\n",
    "ct1 = pd.DataFrame (num_att.apply( np.mean ) ).T\n",
    "ct2 = pd.DataFrame (num_att.apply( np.median ) ).T\n",
    "# dispersão - desvio padrão, min, max, range, skew, kurtosis\n",
    "d1 = pd.DataFrame(num_att.apply (np.std) ).T\n",
    "d2 = pd.DataFrame(num_att.apply (min ) ).T\n",
    "d3 = pd.DataFrame(num_att.apply (max ) ).T\n",
    "d4 = pd.DataFrame(num_att.apply (lambda x: x.max() - x.min() ) ).T\n",
    "d5 = pd.DataFrame(num_att.apply (lambda x: x.skew() ) ).T\n",
    "d6 = pd.DataFrame(num_att.apply (lambda x: x.kurtosis() ) ).T\n",
    "\n",
    "# concatenar\n",
    "m = pd.concat( [d2, d3, ct1, ct2, d1, d5, d6, d4] ).T.reset_index()\n",
    "m.columns = ['Atributos', 'min', 'max','media','Mediana','desv.Padrao','vies','curtose','Range']"
   ]
  },
  {
   "cell_type": "code",
   "execution_count": 25,
   "id": "949d672e",
   "metadata": {
    "hidden": true
   },
   "outputs": [
    {
     "data": {
      "text/html": [
       "<div>\n",
       "<style scoped>\n",
       "    .dataframe tbody tr th:only-of-type {\n",
       "        vertical-align: middle;\n",
       "    }\n",
       "\n",
       "    .dataframe tbody tr th {\n",
       "        vertical-align: top;\n",
       "    }\n",
       "\n",
       "    .dataframe thead th {\n",
       "        text-align: right;\n",
       "    }\n",
       "</style>\n",
       "<table border=\"1\" class=\"dataframe\">\n",
       "  <thead>\n",
       "    <tr style=\"text-align: right;\">\n",
       "      <th></th>\n",
       "      <th>Atributos</th>\n",
       "      <th>min</th>\n",
       "      <th>max</th>\n",
       "      <th>media</th>\n",
       "      <th>Mediana</th>\n",
       "      <th>desv.Padrao</th>\n",
       "      <th>vies</th>\n",
       "      <th>curtose</th>\n",
       "      <th>Range</th>\n",
       "    </tr>\n",
       "  </thead>\n",
       "  <tbody>\n",
       "    <tr>\n",
       "      <th>0</th>\n",
       "      <td>balance</td>\n",
       "      <td>0.0</td>\n",
       "      <td>19043.13856</td>\n",
       "      <td>1564.474828</td>\n",
       "      <td>873.385231</td>\n",
       "      <td>2081.415590</td>\n",
       "      <td>2.393386</td>\n",
       "      <td>7.674751</td>\n",
       "      <td>19043.13856</td>\n",
       "    </tr>\n",
       "    <tr>\n",
       "      <th>1</th>\n",
       "      <td>balance_frequency</td>\n",
       "      <td>0.0</td>\n",
       "      <td>1.00000</td>\n",
       "      <td>0.877271</td>\n",
       "      <td>1.000000</td>\n",
       "      <td>0.236891</td>\n",
       "      <td>-2.023266</td>\n",
       "      <td>3.092370</td>\n",
       "      <td>1.00000</td>\n",
       "    </tr>\n",
       "    <tr>\n",
       "      <th>2</th>\n",
       "      <td>purchases</td>\n",
       "      <td>0.0</td>\n",
       "      <td>49039.57000</td>\n",
       "      <td>1003.204834</td>\n",
       "      <td>361.280000</td>\n",
       "      <td>2136.515413</td>\n",
       "      <td>8.144269</td>\n",
       "      <td>111.388771</td>\n",
       "      <td>49039.57000</td>\n",
       "    </tr>\n",
       "    <tr>\n",
       "      <th>3</th>\n",
       "      <td>oneoff_purchases</td>\n",
       "      <td>0.0</td>\n",
       "      <td>40761.25000</td>\n",
       "      <td>592.437371</td>\n",
       "      <td>38.000000</td>\n",
       "      <td>1659.795184</td>\n",
       "      <td>10.045083</td>\n",
       "      <td>164.187572</td>\n",
       "      <td>40761.25000</td>\n",
       "    </tr>\n",
       "    <tr>\n",
       "      <th>4</th>\n",
       "      <td>installments_purchases</td>\n",
       "      <td>0.0</td>\n",
       "      <td>22500.00000</td>\n",
       "      <td>411.067645</td>\n",
       "      <td>89.000000</td>\n",
       "      <td>904.287592</td>\n",
       "      <td>7.299120</td>\n",
       "      <td>96.575178</td>\n",
       "      <td>22500.00000</td>\n",
       "    </tr>\n",
       "    <tr>\n",
       "      <th>5</th>\n",
       "      <td>cash_advance</td>\n",
       "      <td>0.0</td>\n",
       "      <td>47137.21176</td>\n",
       "      <td>978.871112</td>\n",
       "      <td>0.000000</td>\n",
       "      <td>2097.046713</td>\n",
       "      <td>5.166609</td>\n",
       "      <td>52.899434</td>\n",
       "      <td>47137.21176</td>\n",
       "    </tr>\n",
       "    <tr>\n",
       "      <th>6</th>\n",
       "      <td>purchases_frequency</td>\n",
       "      <td>0.0</td>\n",
       "      <td>1.00000</td>\n",
       "      <td>0.490351</td>\n",
       "      <td>0.500000</td>\n",
       "      <td>0.401348</td>\n",
       "      <td>0.060164</td>\n",
       "      <td>-1.638631</td>\n",
       "      <td>1.00000</td>\n",
       "    </tr>\n",
       "    <tr>\n",
       "      <th>7</th>\n",
       "      <td>oneoff_purchases_frequency</td>\n",
       "      <td>0.0</td>\n",
       "      <td>1.00000</td>\n",
       "      <td>0.202458</td>\n",
       "      <td>0.083333</td>\n",
       "      <td>0.298319</td>\n",
       "      <td>1.535613</td>\n",
       "      <td>1.161846</td>\n",
       "      <td>1.00000</td>\n",
       "    </tr>\n",
       "    <tr>\n",
       "      <th>8</th>\n",
       "      <td>purchases_installments_frequency</td>\n",
       "      <td>0.0</td>\n",
       "      <td>1.00000</td>\n",
       "      <td>0.364437</td>\n",
       "      <td>0.166667</td>\n",
       "      <td>0.397426</td>\n",
       "      <td>0.509201</td>\n",
       "      <td>-1.398632</td>\n",
       "      <td>1.00000</td>\n",
       "    </tr>\n",
       "    <tr>\n",
       "      <th>9</th>\n",
       "      <td>cash_advance_frequency</td>\n",
       "      <td>0.0</td>\n",
       "      <td>1.50000</td>\n",
       "      <td>0.135144</td>\n",
       "      <td>0.000000</td>\n",
       "      <td>0.200110</td>\n",
       "      <td>1.828686</td>\n",
       "      <td>3.334734</td>\n",
       "      <td>1.50000</td>\n",
       "    </tr>\n",
       "    <tr>\n",
       "      <th>10</th>\n",
       "      <td>cash_advance_trx</td>\n",
       "      <td>0.0</td>\n",
       "      <td>123.00000</td>\n",
       "      <td>3.248827</td>\n",
       "      <td>0.000000</td>\n",
       "      <td>6.824265</td>\n",
       "      <td>5.721298</td>\n",
       "      <td>61.646862</td>\n",
       "      <td>123.00000</td>\n",
       "    </tr>\n",
       "    <tr>\n",
       "      <th>11</th>\n",
       "      <td>purchases_trx</td>\n",
       "      <td>0.0</td>\n",
       "      <td>358.00000</td>\n",
       "      <td>14.709832</td>\n",
       "      <td>7.000000</td>\n",
       "      <td>24.856260</td>\n",
       "      <td>4.630655</td>\n",
       "      <td>34.793100</td>\n",
       "      <td>358.00000</td>\n",
       "    </tr>\n",
       "    <tr>\n",
       "      <th>12</th>\n",
       "      <td>credit_limit</td>\n",
       "      <td>50.0</td>\n",
       "      <td>30000.00000</td>\n",
       "      <td>4497.299233</td>\n",
       "      <td>3000.000000</td>\n",
       "      <td>3648.382950</td>\n",
       "      <td>1.545934</td>\n",
       "      <td>3.035919</td>\n",
       "      <td>29950.00000</td>\n",
       "    </tr>\n",
       "    <tr>\n",
       "      <th>13</th>\n",
       "      <td>payments</td>\n",
       "      <td>0.0</td>\n",
       "      <td>50721.48336</td>\n",
       "      <td>1733.143852</td>\n",
       "      <td>856.901546</td>\n",
       "      <td>2894.902017</td>\n",
       "      <td>5.907620</td>\n",
       "      <td>54.770736</td>\n",
       "      <td>50721.48336</td>\n",
       "    </tr>\n",
       "    <tr>\n",
       "      <th>14</th>\n",
       "      <td>minimum_payments</td>\n",
       "      <td>0.0</td>\n",
       "      <td>76406.20752</td>\n",
       "      <td>833.983453</td>\n",
       "      <td>289.628402</td>\n",
       "      <td>2335.859412</td>\n",
       "      <td>13.808430</td>\n",
       "      <td>292.357730</td>\n",
       "      <td>76406.20752</td>\n",
       "    </tr>\n",
       "    <tr>\n",
       "      <th>15</th>\n",
       "      <td>prc_full_payment</td>\n",
       "      <td>0.0</td>\n",
       "      <td>1.00000</td>\n",
       "      <td>0.153715</td>\n",
       "      <td>0.000000</td>\n",
       "      <td>0.292483</td>\n",
       "      <td>1.942820</td>\n",
       "      <td>2.432395</td>\n",
       "      <td>1.00000</td>\n",
       "    </tr>\n",
       "    <tr>\n",
       "      <th>16</th>\n",
       "      <td>tenure</td>\n",
       "      <td>6.0</td>\n",
       "      <td>12.00000</td>\n",
       "      <td>11.517318</td>\n",
       "      <td>12.000000</td>\n",
       "      <td>1.338256</td>\n",
       "      <td>-2.943017</td>\n",
       "      <td>7.694823</td>\n",
       "      <td>6.00000</td>\n",
       "    </tr>\n",
       "  </tbody>\n",
       "</table>\n",
       "</div>"
      ],
      "text/plain": [
       "                           Atributos   min          max        media  \\\n",
       "0                            balance   0.0  19043.13856  1564.474828   \n",
       "1                  balance_frequency   0.0      1.00000     0.877271   \n",
       "2                          purchases   0.0  49039.57000  1003.204834   \n",
       "3                   oneoff_purchases   0.0  40761.25000   592.437371   \n",
       "4             installments_purchases   0.0  22500.00000   411.067645   \n",
       "5                       cash_advance   0.0  47137.21176   978.871112   \n",
       "6                purchases_frequency   0.0      1.00000     0.490351   \n",
       "7         oneoff_purchases_frequency   0.0      1.00000     0.202458   \n",
       "8   purchases_installments_frequency   0.0      1.00000     0.364437   \n",
       "9             cash_advance_frequency   0.0      1.50000     0.135144   \n",
       "10                  cash_advance_trx   0.0    123.00000     3.248827   \n",
       "11                     purchases_trx   0.0    358.00000    14.709832   \n",
       "12                      credit_limit  50.0  30000.00000  4497.299233   \n",
       "13                          payments   0.0  50721.48336  1733.143852   \n",
       "14                  minimum_payments   0.0  76406.20752   833.983453   \n",
       "15                  prc_full_payment   0.0      1.00000     0.153715   \n",
       "16                            tenure   6.0     12.00000    11.517318   \n",
       "\n",
       "        Mediana  desv.Padrao       vies     curtose        Range  \n",
       "0    873.385231  2081.415590   2.393386    7.674751  19043.13856  \n",
       "1      1.000000     0.236891  -2.023266    3.092370      1.00000  \n",
       "2    361.280000  2136.515413   8.144269  111.388771  49039.57000  \n",
       "3     38.000000  1659.795184  10.045083  164.187572  40761.25000  \n",
       "4     89.000000   904.287592   7.299120   96.575178  22500.00000  \n",
       "5      0.000000  2097.046713   5.166609   52.899434  47137.21176  \n",
       "6      0.500000     0.401348   0.060164   -1.638631      1.00000  \n",
       "7      0.083333     0.298319   1.535613    1.161846      1.00000  \n",
       "8      0.166667     0.397426   0.509201   -1.398632      1.00000  \n",
       "9      0.000000     0.200110   1.828686    3.334734      1.50000  \n",
       "10     0.000000     6.824265   5.721298   61.646862    123.00000  \n",
       "11     7.000000    24.856260   4.630655   34.793100    358.00000  \n",
       "12  3000.000000  3648.382950   1.545934    3.035919  29950.00000  \n",
       "13   856.901546  2894.902017   5.907620   54.770736  50721.48336  \n",
       "14   289.628402  2335.859412  13.808430  292.357730  76406.20752  \n",
       "15     0.000000     0.292483   1.942820    2.432395      1.00000  \n",
       "16    12.000000     1.338256  -2.943017    7.694823      6.00000  "
      ]
     },
     "execution_count": 25,
     "metadata": {},
     "output_type": "execute_result"
    }
   ],
   "source": [
    "m"
   ]
  },
  {
   "cell_type": "code",
   "execution_count": 26,
   "id": "f400c338",
   "metadata": {
    "hidden": true
   },
   "outputs": [
    {
     "data": {
      "text/html": [
       "<div>\n",
       "<style scoped>\n",
       "    .dataframe tbody tr th:only-of-type {\n",
       "        vertical-align: middle;\n",
       "    }\n",
       "\n",
       "    .dataframe tbody tr th {\n",
       "        vertical-align: top;\n",
       "    }\n",
       "\n",
       "    .dataframe thead th {\n",
       "        text-align: right;\n",
       "    }\n",
       "</style>\n",
       "<table border=\"1\" class=\"dataframe\">\n",
       "  <thead>\n",
       "    <tr style=\"text-align: right;\">\n",
       "      <th></th>\n",
       "      <th>balance</th>\n",
       "      <th>balance_frequency</th>\n",
       "      <th>purchases</th>\n",
       "      <th>oneoff_purchases</th>\n",
       "      <th>installments_purchases</th>\n",
       "      <th>cash_advance</th>\n",
       "      <th>purchases_frequency</th>\n",
       "      <th>oneoff_purchases_frequency</th>\n",
       "      <th>purchases_installments_frequency</th>\n",
       "      <th>cash_advance_frequency</th>\n",
       "      <th>cash_advance_trx</th>\n",
       "      <th>purchases_trx</th>\n",
       "      <th>credit_limit</th>\n",
       "      <th>payments</th>\n",
       "      <th>minimum_payments</th>\n",
       "      <th>prc_full_payment</th>\n",
       "      <th>tenure</th>\n",
       "    </tr>\n",
       "  </thead>\n",
       "  <tbody>\n",
       "    <tr>\n",
       "      <th>count</th>\n",
       "      <td>8950.000000</td>\n",
       "      <td>8950.000000</td>\n",
       "      <td>8950.000000</td>\n",
       "      <td>8950.000000</td>\n",
       "      <td>8950.000000</td>\n",
       "      <td>8950.000000</td>\n",
       "      <td>8950.000000</td>\n",
       "      <td>8950.000000</td>\n",
       "      <td>8950.000000</td>\n",
       "      <td>8950.000000</td>\n",
       "      <td>8950.000000</td>\n",
       "      <td>8950.000000</td>\n",
       "      <td>8950.000000</td>\n",
       "      <td>8950.000000</td>\n",
       "      <td>8950.000000</td>\n",
       "      <td>8950.000000</td>\n",
       "      <td>8950.000000</td>\n",
       "    </tr>\n",
       "    <tr>\n",
       "      <th>mean</th>\n",
       "      <td>1564.474828</td>\n",
       "      <td>0.877271</td>\n",
       "      <td>1003.204834</td>\n",
       "      <td>592.437371</td>\n",
       "      <td>411.067645</td>\n",
       "      <td>978.871112</td>\n",
       "      <td>0.490351</td>\n",
       "      <td>0.202458</td>\n",
       "      <td>0.364437</td>\n",
       "      <td>0.135144</td>\n",
       "      <td>3.248827</td>\n",
       "      <td>14.709832</td>\n",
       "      <td>4497.299233</td>\n",
       "      <td>1733.143852</td>\n",
       "      <td>833.983453</td>\n",
       "      <td>0.153715</td>\n",
       "      <td>11.517318</td>\n",
       "    </tr>\n",
       "    <tr>\n",
       "      <th>std</th>\n",
       "      <td>2081.531879</td>\n",
       "      <td>0.236904</td>\n",
       "      <td>2136.634782</td>\n",
       "      <td>1659.887917</td>\n",
       "      <td>904.338115</td>\n",
       "      <td>2097.163877</td>\n",
       "      <td>0.401371</td>\n",
       "      <td>0.298336</td>\n",
       "      <td>0.397448</td>\n",
       "      <td>0.200121</td>\n",
       "      <td>6.824647</td>\n",
       "      <td>24.857649</td>\n",
       "      <td>3648.586787</td>\n",
       "      <td>2895.063757</td>\n",
       "      <td>2335.989918</td>\n",
       "      <td>0.292499</td>\n",
       "      <td>1.338331</td>\n",
       "    </tr>\n",
       "    <tr>\n",
       "      <th>min</th>\n",
       "      <td>0.000000</td>\n",
       "      <td>0.000000</td>\n",
       "      <td>0.000000</td>\n",
       "      <td>0.000000</td>\n",
       "      <td>0.000000</td>\n",
       "      <td>0.000000</td>\n",
       "      <td>0.000000</td>\n",
       "      <td>0.000000</td>\n",
       "      <td>0.000000</td>\n",
       "      <td>0.000000</td>\n",
       "      <td>0.000000</td>\n",
       "      <td>0.000000</td>\n",
       "      <td>50.000000</td>\n",
       "      <td>0.000000</td>\n",
       "      <td>0.000000</td>\n",
       "      <td>0.000000</td>\n",
       "      <td>6.000000</td>\n",
       "    </tr>\n",
       "    <tr>\n",
       "      <th>25%</th>\n",
       "      <td>128.281915</td>\n",
       "      <td>0.888889</td>\n",
       "      <td>39.635000</td>\n",
       "      <td>0.000000</td>\n",
       "      <td>0.000000</td>\n",
       "      <td>0.000000</td>\n",
       "      <td>0.083333</td>\n",
       "      <td>0.000000</td>\n",
       "      <td>0.000000</td>\n",
       "      <td>0.000000</td>\n",
       "      <td>0.000000</td>\n",
       "      <td>1.000000</td>\n",
       "      <td>1600.000000</td>\n",
       "      <td>383.276166</td>\n",
       "      <td>163.028164</td>\n",
       "      <td>0.000000</td>\n",
       "      <td>12.000000</td>\n",
       "    </tr>\n",
       "    <tr>\n",
       "      <th>50%</th>\n",
       "      <td>873.385231</td>\n",
       "      <td>1.000000</td>\n",
       "      <td>361.280000</td>\n",
       "      <td>38.000000</td>\n",
       "      <td>89.000000</td>\n",
       "      <td>0.000000</td>\n",
       "      <td>0.500000</td>\n",
       "      <td>0.083333</td>\n",
       "      <td>0.166667</td>\n",
       "      <td>0.000000</td>\n",
       "      <td>0.000000</td>\n",
       "      <td>7.000000</td>\n",
       "      <td>3000.000000</td>\n",
       "      <td>856.901546</td>\n",
       "      <td>289.628402</td>\n",
       "      <td>0.000000</td>\n",
       "      <td>12.000000</td>\n",
       "    </tr>\n",
       "    <tr>\n",
       "      <th>75%</th>\n",
       "      <td>2054.140036</td>\n",
       "      <td>1.000000</td>\n",
       "      <td>1110.130000</td>\n",
       "      <td>577.405000</td>\n",
       "      <td>468.637500</td>\n",
       "      <td>1113.821139</td>\n",
       "      <td>0.916667</td>\n",
       "      <td>0.300000</td>\n",
       "      <td>0.750000</td>\n",
       "      <td>0.222222</td>\n",
       "      <td>4.000000</td>\n",
       "      <td>17.000000</td>\n",
       "      <td>6500.000000</td>\n",
       "      <td>1901.134317</td>\n",
       "      <td>788.713501</td>\n",
       "      <td>0.142857</td>\n",
       "      <td>12.000000</td>\n",
       "    </tr>\n",
       "    <tr>\n",
       "      <th>max</th>\n",
       "      <td>19043.138560</td>\n",
       "      <td>1.000000</td>\n",
       "      <td>49039.570000</td>\n",
       "      <td>40761.250000</td>\n",
       "      <td>22500.000000</td>\n",
       "      <td>47137.211760</td>\n",
       "      <td>1.000000</td>\n",
       "      <td>1.000000</td>\n",
       "      <td>1.000000</td>\n",
       "      <td>1.500000</td>\n",
       "      <td>123.000000</td>\n",
       "      <td>358.000000</td>\n",
       "      <td>30000.000000</td>\n",
       "      <td>50721.483360</td>\n",
       "      <td>76406.207520</td>\n",
       "      <td>1.000000</td>\n",
       "      <td>12.000000</td>\n",
       "    </tr>\n",
       "  </tbody>\n",
       "</table>\n",
       "</div>"
      ],
      "text/plain": [
       "            balance  balance_frequency     purchases  oneoff_purchases  \\\n",
       "count   8950.000000        8950.000000   8950.000000       8950.000000   \n",
       "mean    1564.474828           0.877271   1003.204834        592.437371   \n",
       "std     2081.531879           0.236904   2136.634782       1659.887917   \n",
       "min        0.000000           0.000000      0.000000          0.000000   \n",
       "25%      128.281915           0.888889     39.635000          0.000000   \n",
       "50%      873.385231           1.000000    361.280000         38.000000   \n",
       "75%     2054.140036           1.000000   1110.130000        577.405000   \n",
       "max    19043.138560           1.000000  49039.570000      40761.250000   \n",
       "\n",
       "       installments_purchases  cash_advance  purchases_frequency  \\\n",
       "count             8950.000000   8950.000000          8950.000000   \n",
       "mean               411.067645    978.871112             0.490351   \n",
       "std                904.338115   2097.163877             0.401371   \n",
       "min                  0.000000      0.000000             0.000000   \n",
       "25%                  0.000000      0.000000             0.083333   \n",
       "50%                 89.000000      0.000000             0.500000   \n",
       "75%                468.637500   1113.821139             0.916667   \n",
       "max              22500.000000  47137.211760             1.000000   \n",
       "\n",
       "       oneoff_purchases_frequency  purchases_installments_frequency  \\\n",
       "count                 8950.000000                       8950.000000   \n",
       "mean                     0.202458                          0.364437   \n",
       "std                      0.298336                          0.397448   \n",
       "min                      0.000000                          0.000000   \n",
       "25%                      0.000000                          0.000000   \n",
       "50%                      0.083333                          0.166667   \n",
       "75%                      0.300000                          0.750000   \n",
       "max                      1.000000                          1.000000   \n",
       "\n",
       "       cash_advance_frequency  cash_advance_trx  purchases_trx  credit_limit  \\\n",
       "count             8950.000000       8950.000000    8950.000000   8950.000000   \n",
       "mean                 0.135144          3.248827      14.709832   4497.299233   \n",
       "std                  0.200121          6.824647      24.857649   3648.586787   \n",
       "min                  0.000000          0.000000       0.000000     50.000000   \n",
       "25%                  0.000000          0.000000       1.000000   1600.000000   \n",
       "50%                  0.000000          0.000000       7.000000   3000.000000   \n",
       "75%                  0.222222          4.000000      17.000000   6500.000000   \n",
       "max                  1.500000        123.000000     358.000000  30000.000000   \n",
       "\n",
       "           payments  minimum_payments  prc_full_payment       tenure  \n",
       "count   8950.000000       8950.000000       8950.000000  8950.000000  \n",
       "mean    1733.143852        833.983453          0.153715    11.517318  \n",
       "std     2895.063757       2335.989918          0.292499     1.338331  \n",
       "min        0.000000          0.000000          0.000000     6.000000  \n",
       "25%      383.276166        163.028164          0.000000    12.000000  \n",
       "50%      856.901546        289.628402          0.000000    12.000000  \n",
       "75%     1901.134317        788.713501          0.142857    12.000000  \n",
       "max    50721.483360      76406.207520          1.000000    12.000000  "
      ]
     },
     "execution_count": 26,
     "metadata": {},
     "output_type": "execute_result"
    }
   ],
   "source": [
    "df03.describe()"
   ]
  },
  {
   "cell_type": "markdown",
   "id": "b03b07cf",
   "metadata": {
    "heading_collapsed": true
   },
   "source": [
    "# 4 - EDA - Estudo do espaço"
   ]
  },
  {
   "cell_type": "code",
   "execution_count": null,
   "id": "eba890d2",
   "metadata": {
    "hidden": true
   },
   "outputs": [],
   "source": []
  },
  {
   "cell_type": "markdown",
   "id": "b6a60ffc",
   "metadata": {
    "heading_collapsed": true
   },
   "source": [
    "# 5 - Preparação dos dados"
   ]
  },
  {
   "cell_type": "code",
   "execution_count": null,
   "id": "6b0220b8",
   "metadata": {
    "hidden": true
   },
   "outputs": [],
   "source": []
  },
  {
   "cell_type": "markdown",
   "id": "f68903e5",
   "metadata": {
    "heading_collapsed": true
   },
   "source": [
    "# 6 -Seleção de atributos"
   ]
  },
  {
   "cell_type": "code",
   "execution_count": null,
   "id": "11eb651f",
   "metadata": {
    "hidden": true
   },
   "outputs": [],
   "source": []
  },
  {
   "cell_type": "markdown",
   "id": "b7037c55",
   "metadata": {
    "heading_collapsed": true
   },
   "source": [
    "# 7 - Hiperparametrização"
   ]
  },
  {
   "cell_type": "code",
   "execution_count": null,
   "id": "903b96c4",
   "metadata": {
    "hidden": true
   },
   "outputs": [],
   "source": []
  },
  {
   "cell_type": "code",
   "execution_count": null,
   "id": "53dbf568",
   "metadata": {
    "hidden": true
   },
   "outputs": [],
   "source": []
  },
  {
   "cell_type": "markdown",
   "id": "b97b77fc",
   "metadata": {
    "hidden": true
   },
   "source": [
    "## k-Means"
   ]
  },
  {
   "cell_type": "code",
   "execution_count": 27,
   "id": "a27f4b94",
   "metadata": {
    "hidden": true
   },
   "outputs": [],
   "source": [
    "X = df02"
   ]
  },
  {
   "cell_type": "code",
   "execution_count": null,
   "id": "c22d0f01",
   "metadata": {
    "hidden": true
   },
   "outputs": [],
   "source": []
  },
  {
   "cell_type": "code",
   "execution_count": 28,
   "id": "0cd4582f",
   "metadata": {
    "hidden": true
   },
   "outputs": [
    {
     "ename": "ValueError",
     "evalue": "could not convert string to float: 'C10001'",
     "output_type": "error",
     "traceback": [
      "\u001b[1;31m---------------------------------------------------------------------------\u001b[0m",
      "\u001b[1;31mValueError\u001b[0m                                Traceback (most recent call last)",
      "\u001b[1;32m~\\AppData\\Local\\Temp/ipykernel_10700/252768219.py\u001b[0m in \u001b[0;36m<module>\u001b[1;34m\u001b[0m\n\u001b[0;32m      7\u001b[0m \u001b[1;33m\u001b[0m\u001b[0m\n\u001b[0;32m      8\u001b[0m     \u001b[1;31m# Treino\u001b[0m\u001b[1;33m\u001b[0m\u001b[1;33m\u001b[0m\u001b[1;33m\u001b[0m\u001b[0m\n\u001b[1;32m----> 9\u001b[1;33m     \u001b[0mkmeans_model\u001b[0m\u001b[1;33m.\u001b[0m\u001b[0mfit\u001b[0m\u001b[1;33m(\u001b[0m\u001b[0mX\u001b[0m\u001b[1;33m)\u001b[0m\u001b[1;33m\u001b[0m\u001b[1;33m\u001b[0m\u001b[0m\n\u001b[0m\u001b[0;32m     10\u001b[0m     \u001b[1;31m# predicao\u001b[0m\u001b[1;33m\u001b[0m\u001b[1;33m\u001b[0m\u001b[1;33m\u001b[0m\u001b[0m\n\u001b[0;32m     11\u001b[0m     \u001b[0mlabels\u001b[0m \u001b[1;33m=\u001b[0m \u001b[0mkmeans_model\u001b[0m\u001b[1;33m.\u001b[0m\u001b[0mpredict\u001b[0m\u001b[1;33m(\u001b[0m\u001b[0mX\u001b[0m\u001b[1;33m)\u001b[0m\u001b[1;33m\u001b[0m\u001b[1;33m\u001b[0m\u001b[0m\n",
      "\u001b[1;32m~\\.conda\\envs\\PA006\\lib\\site-packages\\sklearn\\cluster\\_kmeans.py\u001b[0m in \u001b[0;36mfit\u001b[1;34m(self, X, y, sample_weight)\u001b[0m\n\u001b[0;32m    977\u001b[0m             \u001b[0mFitted\u001b[0m \u001b[0mestimator\u001b[0m\u001b[1;33m.\u001b[0m\u001b[1;33m\u001b[0m\u001b[1;33m\u001b[0m\u001b[0m\n\u001b[0;32m    978\u001b[0m         \"\"\"\n\u001b[1;32m--> 979\u001b[1;33m         X = self._validate_data(X, accept_sparse='csr',\n\u001b[0m\u001b[0;32m    980\u001b[0m                                 \u001b[0mdtype\u001b[0m\u001b[1;33m=\u001b[0m\u001b[1;33m[\u001b[0m\u001b[0mnp\u001b[0m\u001b[1;33m.\u001b[0m\u001b[0mfloat64\u001b[0m\u001b[1;33m,\u001b[0m \u001b[0mnp\u001b[0m\u001b[1;33m.\u001b[0m\u001b[0mfloat32\u001b[0m\u001b[1;33m]\u001b[0m\u001b[1;33m,\u001b[0m\u001b[1;33m\u001b[0m\u001b[1;33m\u001b[0m\u001b[0m\n\u001b[0;32m    981\u001b[0m                                 \u001b[0morder\u001b[0m\u001b[1;33m=\u001b[0m\u001b[1;34m'C'\u001b[0m\u001b[1;33m,\u001b[0m \u001b[0mcopy\u001b[0m\u001b[1;33m=\u001b[0m\u001b[0mself\u001b[0m\u001b[1;33m.\u001b[0m\u001b[0mcopy_x\u001b[0m\u001b[1;33m,\u001b[0m\u001b[1;33m\u001b[0m\u001b[1;33m\u001b[0m\u001b[0m\n",
      "\u001b[1;32m~\\.conda\\envs\\PA006\\lib\\site-packages\\sklearn\\base.py\u001b[0m in \u001b[0;36m_validate_data\u001b[1;34m(self, X, y, reset, validate_separately, **check_params)\u001b[0m\n\u001b[0;32m    419\u001b[0m             \u001b[0mout\u001b[0m \u001b[1;33m=\u001b[0m \u001b[0mX\u001b[0m\u001b[1;33m\u001b[0m\u001b[1;33m\u001b[0m\u001b[0m\n\u001b[0;32m    420\u001b[0m         \u001b[1;32melif\u001b[0m \u001b[0misinstance\u001b[0m\u001b[1;33m(\u001b[0m\u001b[0my\u001b[0m\u001b[1;33m,\u001b[0m \u001b[0mstr\u001b[0m\u001b[1;33m)\u001b[0m \u001b[1;32mand\u001b[0m \u001b[0my\u001b[0m \u001b[1;33m==\u001b[0m \u001b[1;34m'no_validation'\u001b[0m\u001b[1;33m:\u001b[0m\u001b[1;33m\u001b[0m\u001b[1;33m\u001b[0m\u001b[0m\n\u001b[1;32m--> 421\u001b[1;33m             \u001b[0mX\u001b[0m \u001b[1;33m=\u001b[0m \u001b[0mcheck_array\u001b[0m\u001b[1;33m(\u001b[0m\u001b[0mX\u001b[0m\u001b[1;33m,\u001b[0m \u001b[1;33m**\u001b[0m\u001b[0mcheck_params\u001b[0m\u001b[1;33m)\u001b[0m\u001b[1;33m\u001b[0m\u001b[1;33m\u001b[0m\u001b[0m\n\u001b[0m\u001b[0;32m    422\u001b[0m             \u001b[0mout\u001b[0m \u001b[1;33m=\u001b[0m \u001b[0mX\u001b[0m\u001b[1;33m\u001b[0m\u001b[1;33m\u001b[0m\u001b[0m\n\u001b[0;32m    423\u001b[0m         \u001b[1;32melse\u001b[0m\u001b[1;33m:\u001b[0m\u001b[1;33m\u001b[0m\u001b[1;33m\u001b[0m\u001b[0m\n",
      "\u001b[1;32m~\\.conda\\envs\\PA006\\lib\\site-packages\\sklearn\\utils\\validation.py\u001b[0m in \u001b[0;36minner_f\u001b[1;34m(*args, **kwargs)\u001b[0m\n\u001b[0;32m     61\u001b[0m             \u001b[0mextra_args\u001b[0m \u001b[1;33m=\u001b[0m \u001b[0mlen\u001b[0m\u001b[1;33m(\u001b[0m\u001b[0margs\u001b[0m\u001b[1;33m)\u001b[0m \u001b[1;33m-\u001b[0m \u001b[0mlen\u001b[0m\u001b[1;33m(\u001b[0m\u001b[0mall_args\u001b[0m\u001b[1;33m)\u001b[0m\u001b[1;33m\u001b[0m\u001b[1;33m\u001b[0m\u001b[0m\n\u001b[0;32m     62\u001b[0m             \u001b[1;32mif\u001b[0m \u001b[0mextra_args\u001b[0m \u001b[1;33m<=\u001b[0m \u001b[1;36m0\u001b[0m\u001b[1;33m:\u001b[0m\u001b[1;33m\u001b[0m\u001b[1;33m\u001b[0m\u001b[0m\n\u001b[1;32m---> 63\u001b[1;33m                 \u001b[1;32mreturn\u001b[0m \u001b[0mf\u001b[0m\u001b[1;33m(\u001b[0m\u001b[1;33m*\u001b[0m\u001b[0margs\u001b[0m\u001b[1;33m,\u001b[0m \u001b[1;33m**\u001b[0m\u001b[0mkwargs\u001b[0m\u001b[1;33m)\u001b[0m\u001b[1;33m\u001b[0m\u001b[1;33m\u001b[0m\u001b[0m\n\u001b[0m\u001b[0;32m     64\u001b[0m \u001b[1;33m\u001b[0m\u001b[0m\n\u001b[0;32m     65\u001b[0m             \u001b[1;31m# extra_args > 0\u001b[0m\u001b[1;33m\u001b[0m\u001b[1;33m\u001b[0m\u001b[1;33m\u001b[0m\u001b[0m\n",
      "\u001b[1;32m~\\.conda\\envs\\PA006\\lib\\site-packages\\sklearn\\utils\\validation.py\u001b[0m in \u001b[0;36mcheck_array\u001b[1;34m(array, accept_sparse, accept_large_sparse, dtype, order, copy, force_all_finite, ensure_2d, allow_nd, ensure_min_samples, ensure_min_features, estimator)\u001b[0m\n\u001b[0;32m    671\u001b[0m                     \u001b[0marray\u001b[0m \u001b[1;33m=\u001b[0m \u001b[0marray\u001b[0m\u001b[1;33m.\u001b[0m\u001b[0mastype\u001b[0m\u001b[1;33m(\u001b[0m\u001b[0mdtype\u001b[0m\u001b[1;33m,\u001b[0m \u001b[0mcasting\u001b[0m\u001b[1;33m=\u001b[0m\u001b[1;34m\"unsafe\"\u001b[0m\u001b[1;33m,\u001b[0m \u001b[0mcopy\u001b[0m\u001b[1;33m=\u001b[0m\u001b[1;32mFalse\u001b[0m\u001b[1;33m)\u001b[0m\u001b[1;33m\u001b[0m\u001b[1;33m\u001b[0m\u001b[0m\n\u001b[0;32m    672\u001b[0m                 \u001b[1;32melse\u001b[0m\u001b[1;33m:\u001b[0m\u001b[1;33m\u001b[0m\u001b[1;33m\u001b[0m\u001b[0m\n\u001b[1;32m--> 673\u001b[1;33m                     \u001b[0marray\u001b[0m \u001b[1;33m=\u001b[0m \u001b[0mnp\u001b[0m\u001b[1;33m.\u001b[0m\u001b[0masarray\u001b[0m\u001b[1;33m(\u001b[0m\u001b[0marray\u001b[0m\u001b[1;33m,\u001b[0m \u001b[0morder\u001b[0m\u001b[1;33m=\u001b[0m\u001b[0morder\u001b[0m\u001b[1;33m,\u001b[0m \u001b[0mdtype\u001b[0m\u001b[1;33m=\u001b[0m\u001b[0mdtype\u001b[0m\u001b[1;33m)\u001b[0m\u001b[1;33m\u001b[0m\u001b[1;33m\u001b[0m\u001b[0m\n\u001b[0m\u001b[0;32m    674\u001b[0m             \u001b[1;32mexcept\u001b[0m \u001b[0mComplexWarning\u001b[0m \u001b[1;32mas\u001b[0m \u001b[0mcomplex_warning\u001b[0m\u001b[1;33m:\u001b[0m\u001b[1;33m\u001b[0m\u001b[1;33m\u001b[0m\u001b[0m\n\u001b[0;32m    675\u001b[0m                 raise ValueError(\"Complex data not supported\\n\"\n",
      "\u001b[1;32m~\\.conda\\envs\\PA006\\lib\\site-packages\\numpy\\core\\_asarray.py\u001b[0m in \u001b[0;36masarray\u001b[1;34m(a, dtype, order, like)\u001b[0m\n\u001b[0;32m    100\u001b[0m         \u001b[1;32mreturn\u001b[0m \u001b[0m_asarray_with_like\u001b[0m\u001b[1;33m(\u001b[0m\u001b[0ma\u001b[0m\u001b[1;33m,\u001b[0m \u001b[0mdtype\u001b[0m\u001b[1;33m=\u001b[0m\u001b[0mdtype\u001b[0m\u001b[1;33m,\u001b[0m \u001b[0morder\u001b[0m\u001b[1;33m=\u001b[0m\u001b[0morder\u001b[0m\u001b[1;33m,\u001b[0m \u001b[0mlike\u001b[0m\u001b[1;33m=\u001b[0m\u001b[0mlike\u001b[0m\u001b[1;33m)\u001b[0m\u001b[1;33m\u001b[0m\u001b[1;33m\u001b[0m\u001b[0m\n\u001b[0;32m    101\u001b[0m \u001b[1;33m\u001b[0m\u001b[0m\n\u001b[1;32m--> 102\u001b[1;33m     \u001b[1;32mreturn\u001b[0m \u001b[0marray\u001b[0m\u001b[1;33m(\u001b[0m\u001b[0ma\u001b[0m\u001b[1;33m,\u001b[0m \u001b[0mdtype\u001b[0m\u001b[1;33m,\u001b[0m \u001b[0mcopy\u001b[0m\u001b[1;33m=\u001b[0m\u001b[1;32mFalse\u001b[0m\u001b[1;33m,\u001b[0m \u001b[0morder\u001b[0m\u001b[1;33m=\u001b[0m\u001b[0morder\u001b[0m\u001b[1;33m)\u001b[0m\u001b[1;33m\u001b[0m\u001b[1;33m\u001b[0m\u001b[0m\n\u001b[0m\u001b[0;32m    103\u001b[0m \u001b[1;33m\u001b[0m\u001b[0m\n\u001b[0;32m    104\u001b[0m \u001b[1;33m\u001b[0m\u001b[0m\n",
      "\u001b[1;32m~\\.conda\\envs\\PA006\\lib\\site-packages\\pandas\\core\\generic.py\u001b[0m in \u001b[0;36m__array__\u001b[1;34m(self, dtype)\u001b[0m\n\u001b[0;32m   1991\u001b[0m \u001b[1;33m\u001b[0m\u001b[0m\n\u001b[0;32m   1992\u001b[0m     \u001b[1;32mdef\u001b[0m \u001b[0m__array__\u001b[0m\u001b[1;33m(\u001b[0m\u001b[0mself\u001b[0m\u001b[1;33m,\u001b[0m \u001b[0mdtype\u001b[0m\u001b[1;33m:\u001b[0m \u001b[0mNpDtype\u001b[0m \u001b[1;33m|\u001b[0m \u001b[1;32mNone\u001b[0m \u001b[1;33m=\u001b[0m \u001b[1;32mNone\u001b[0m\u001b[1;33m)\u001b[0m \u001b[1;33m->\u001b[0m \u001b[0mnp\u001b[0m\u001b[1;33m.\u001b[0m\u001b[0mndarray\u001b[0m\u001b[1;33m:\u001b[0m\u001b[1;33m\u001b[0m\u001b[1;33m\u001b[0m\u001b[0m\n\u001b[1;32m-> 1993\u001b[1;33m         \u001b[1;32mreturn\u001b[0m \u001b[0mnp\u001b[0m\u001b[1;33m.\u001b[0m\u001b[0masarray\u001b[0m\u001b[1;33m(\u001b[0m\u001b[0mself\u001b[0m\u001b[1;33m.\u001b[0m\u001b[0m_values\u001b[0m\u001b[1;33m,\u001b[0m \u001b[0mdtype\u001b[0m\u001b[1;33m=\u001b[0m\u001b[0mdtype\u001b[0m\u001b[1;33m)\u001b[0m\u001b[1;33m\u001b[0m\u001b[1;33m\u001b[0m\u001b[0m\n\u001b[0m\u001b[0;32m   1994\u001b[0m \u001b[1;33m\u001b[0m\u001b[0m\n\u001b[0;32m   1995\u001b[0m     def __array_wrap__(\n",
      "\u001b[1;32m~\\.conda\\envs\\PA006\\lib\\site-packages\\numpy\\core\\_asarray.py\u001b[0m in \u001b[0;36masarray\u001b[1;34m(a, dtype, order, like)\u001b[0m\n\u001b[0;32m    100\u001b[0m         \u001b[1;32mreturn\u001b[0m \u001b[0m_asarray_with_like\u001b[0m\u001b[1;33m(\u001b[0m\u001b[0ma\u001b[0m\u001b[1;33m,\u001b[0m \u001b[0mdtype\u001b[0m\u001b[1;33m=\u001b[0m\u001b[0mdtype\u001b[0m\u001b[1;33m,\u001b[0m \u001b[0morder\u001b[0m\u001b[1;33m=\u001b[0m\u001b[0morder\u001b[0m\u001b[1;33m,\u001b[0m \u001b[0mlike\u001b[0m\u001b[1;33m=\u001b[0m\u001b[0mlike\u001b[0m\u001b[1;33m)\u001b[0m\u001b[1;33m\u001b[0m\u001b[1;33m\u001b[0m\u001b[0m\n\u001b[0;32m    101\u001b[0m \u001b[1;33m\u001b[0m\u001b[0m\n\u001b[1;32m--> 102\u001b[1;33m     \u001b[1;32mreturn\u001b[0m \u001b[0marray\u001b[0m\u001b[1;33m(\u001b[0m\u001b[0ma\u001b[0m\u001b[1;33m,\u001b[0m \u001b[0mdtype\u001b[0m\u001b[1;33m,\u001b[0m \u001b[0mcopy\u001b[0m\u001b[1;33m=\u001b[0m\u001b[1;32mFalse\u001b[0m\u001b[1;33m,\u001b[0m \u001b[0morder\u001b[0m\u001b[1;33m=\u001b[0m\u001b[0morder\u001b[0m\u001b[1;33m)\u001b[0m\u001b[1;33m\u001b[0m\u001b[1;33m\u001b[0m\u001b[0m\n\u001b[0m\u001b[0;32m    103\u001b[0m \u001b[1;33m\u001b[0m\u001b[0m\n\u001b[0;32m    104\u001b[0m \u001b[1;33m\u001b[0m\u001b[0m\n",
      "\u001b[1;31mValueError\u001b[0m: could not convert string to float: 'C10001'"
     ]
    }
   ],
   "source": [
    "clusters = [2,3,4,5,6,7,8]\n",
    "sil_list = []\n",
    "dav_list = []\n",
    "for k in clusters:\n",
    "    # definição \n",
    "    kmeans_model = c.KMeans(n_clusters=k)\n",
    "    \n",
    "    # Treino\n",
    "    kmeans_model.fit(X)\n",
    "    # predicao\n",
    "    labels = kmeans_model.predict(X)\n",
    "    \n",
    "    # performance\n",
    "    sil = m.silhouette_score (X, labels)\n",
    "    dav = m.davies_bouldin_score (X, labels)\n",
    "    sil_list.append(sil)\n",
    "    dav_list.append(dav)\n",
    "    \n",
    "    "
   ]
  },
  {
   "cell_type": "code",
   "execution_count": null,
   "id": "5bbd7056",
   "metadata": {
    "hidden": true
   },
   "outputs": [],
   "source": [
    "print (sil_list)"
   ]
  },
  {
   "cell_type": "code",
   "execution_count": null,
   "id": "740d015e",
   "metadata": {
    "hidden": true
   },
   "outputs": [],
   "source": [
    "print(dav_list)"
   ]
  },
  {
   "cell_type": "code",
   "execution_count": null,
   "id": "aea4a9c3",
   "metadata": {
    "hidden": true
   },
   "outputs": [],
   "source": [
    "plt.figure(figsize=[20,10])\n",
    "plt.plot(clusters, sil_list, linestyle = '--', marker = 'o', color = 'b')\n",
    "plt.xlabel('Nro Clusters');\n",
    "plt.ylabel('Score da silueta');\n",
    "plt.title('Score da silueta');"
   ]
  },
  {
   "cell_type": "code",
   "execution_count": null,
   "id": "cc2a02a8",
   "metadata": {
    "hidden": true
   },
   "outputs": [],
   "source": [
    "plt.figure(figsize=[20,10])\n",
    "plt.plot(clusters, dav_list, linestyle = '--', marker = 'o', color = 'b')\n",
    "plt.xlabel('Nro Clusters');\n",
    "plt.ylabel('DB score');\n",
    "plt.title('DBIndex');"
   ]
  },
  {
   "cell_type": "markdown",
   "id": "ba647c50",
   "metadata": {
    "heading_collapsed": true
   },
   "source": [
    "# 8 - Treinamento dos algorítimos"
   ]
  },
  {
   "cell_type": "code",
   "execution_count": null,
   "id": "ad7a1764",
   "metadata": {
    "hidden": true
   },
   "outputs": [],
   "source": []
  },
  {
   "cell_type": "markdown",
   "id": "363dec80",
   "metadata": {
    "heading_collapsed": true
   },
   "source": [
    "# 9 - Análise de clusters"
   ]
  },
  {
   "cell_type": "code",
   "execution_count": null,
   "id": "8a85ab40",
   "metadata": {
    "hidden": true
   },
   "outputs": [],
   "source": []
  },
  {
   "cell_type": "markdown",
   "id": "7cb8b274",
   "metadata": {
    "heading_collapsed": true
   },
   "source": [
    "# 10 - EDA - Descoberta de relatórios - Insights"
   ]
  },
  {
   "cell_type": "code",
   "execution_count": null,
   "id": "9ae7d2d7",
   "metadata": {
    "hidden": true
   },
   "outputs": [],
   "source": []
  },
  {
   "cell_type": "markdown",
   "id": "a937f1f6",
   "metadata": {},
   "source": [
    "# 11 - Deploy para produção"
   ]
  },
  {
   "cell_type": "code",
   "execution_count": null,
   "id": "0ed09d7b",
   "metadata": {},
   "outputs": [],
   "source": []
  },
  {
   "cell_type": "code",
   "execution_count": null,
   "id": "8bb67e5b",
   "metadata": {},
   "outputs": [],
   "source": []
  },
  {
   "cell_type": "code",
   "execution_count": null,
   "id": "19c1efa5",
   "metadata": {},
   "outputs": [],
   "source": []
  }
 ],
 "metadata": {
  "kernelspec": {
   "display_name": "Python 3 (ipykernel)",
   "language": "python",
   "name": "python3"
  },
  "language_info": {
   "codemirror_mode": {
    "name": "ipython",
    "version": 3
   },
   "file_extension": ".py",
   "mimetype": "text/x-python",
   "name": "python",
   "nbconvert_exporter": "python",
   "pygments_lexer": "ipython3",
   "version": "3.8.11"
  },
  "varInspector": {
   "cols": {
    "lenName": 16,
    "lenType": 16,
    "lenVar": 40
   },
   "kernels_config": {
    "python": {
     "delete_cmd_postfix": "",
     "delete_cmd_prefix": "del ",
     "library": "var_list.py",
     "varRefreshCmd": "print(var_dic_list())"
    },
    "r": {
     "delete_cmd_postfix": ") ",
     "delete_cmd_prefix": "rm(",
     "library": "var_list.r",
     "varRefreshCmd": "cat(var_dic_list()) "
    }
   },
   "types_to_exclude": [
    "module",
    "function",
    "builtin_function_or_method",
    "instance",
    "_Feature"
   ],
   "window_display": false
  }
 },
 "nbformat": 4,
 "nbformat_minor": 5
}
